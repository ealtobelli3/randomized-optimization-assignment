{
 "cells": [
  {
   "cell_type": "code",
   "execution_count": 1,
   "id": "9be9770c",
   "metadata": {},
   "outputs": [],
   "source": [
    "import random\n",
    "import six\n",
    "import sys\n",
    "sys.modules['sklearn.externals.six'] = six\n",
    "import mlrose\n",
    "import numpy as np\n",
    "import time\n",
    "import pandas as pd"
   ]
  },
  {
   "cell_type": "code",
   "execution_count": 2,
   "id": "12f1a820",
   "metadata": {},
   "outputs": [],
   "source": [
    "############## Begin Traveling Salesperson problem ##############\n",
    "# SOURCE: https://mlrose.readthedocs.io/en/stable/source/tutorial2.html"
   ]
  },
  {
   "cell_type": "code",
   "execution_count": 3,
   "id": "2b21e768",
   "metadata": {},
   "outputs": [],
   "source": [
    "## TSP with small n, n = 8"
   ]
  },
  {
   "cell_type": "code",
   "execution_count": 378,
   "id": "3e0b292a",
   "metadata": {},
   "outputs": [],
   "source": [
    "# Create list of city coordinates\n",
    "coords_list = [(1, 1), (4, 2), (5, 2), (6, 4), (4, 4), (3, 6), (1, 5), (2, 3)]\n",
    "\n",
    "# Initialize fitness function object using coords_list\n",
    "fitness_coords = mlrose.TravellingSales(coords = coords_list)"
   ]
  },
  {
   "cell_type": "code",
   "execution_count": 379,
   "id": "b925ac1a",
   "metadata": {},
   "outputs": [],
   "source": [
    "# Define optimization problem object\n",
    "problem_fit = mlrose.TSPOpt(length = 8, fitness_fn = fitness_coords, maximize=False)"
   ]
  },
  {
   "cell_type": "code",
   "execution_count": 380,
   "id": "8f8e5dda",
   "metadata": {},
   "outputs": [
    {
     "name": "stdout",
     "output_type": "stream",
     "text": [
      "   wall clock time      score  iterations  pop size\n",
      "0         0.951417  18.180340          15       200\n",
      "1         3.345109  17.342618          34       300\n",
      "2         1.532523  17.342618          12       400\n",
      "3         1.752735  17.342618          11       500\n",
      "4         2.112996  18.180340          11       600\n",
      "5         2.815839  17.342618          12       700\n",
      "6         4.353960  17.342618          17       800\n",
      "7         4.491901  17.342618          14       900\n",
      "8         5.518559  17.342618          17      1000\n"
     ]
    },
    {
     "data": {
      "text/html": [
       "<div>\n",
       "<style scoped>\n",
       "    .dataframe tbody tr th:only-of-type {\n",
       "        vertical-align: middle;\n",
       "    }\n",
       "\n",
       "    .dataframe tbody tr th {\n",
       "        vertical-align: top;\n",
       "    }\n",
       "\n",
       "    .dataframe thead th {\n",
       "        text-align: right;\n",
       "    }\n",
       "</style>\n",
       "<table border=\"1\" class=\"dataframe\">\n",
       "  <thead>\n",
       "    <tr style=\"text-align: right;\">\n",
       "      <th></th>\n",
       "      <th>wall clock time</th>\n",
       "      <th>score</th>\n",
       "      <th>iterations</th>\n",
       "      <th>pop size</th>\n",
       "    </tr>\n",
       "  </thead>\n",
       "  <tbody>\n",
       "    <tr>\n",
       "      <th>count</th>\n",
       "      <td>9.000000</td>\n",
       "      <td>9.000000</td>\n",
       "      <td>9.000000</td>\n",
       "      <td>9.000000</td>\n",
       "    </tr>\n",
       "    <tr>\n",
       "      <th>mean</th>\n",
       "      <td>2.986116</td>\n",
       "      <td>17.528778</td>\n",
       "      <td>15.888889</td>\n",
       "      <td>600.000000</td>\n",
       "    </tr>\n",
       "    <tr>\n",
       "      <th>std</th>\n",
       "      <td>1.551049</td>\n",
       "      <td>0.369401</td>\n",
       "      <td>7.184087</td>\n",
       "      <td>273.861279</td>\n",
       "    </tr>\n",
       "    <tr>\n",
       "      <th>min</th>\n",
       "      <td>0.951417</td>\n",
       "      <td>17.342618</td>\n",
       "      <td>11.000000</td>\n",
       "      <td>200.000000</td>\n",
       "    </tr>\n",
       "    <tr>\n",
       "      <th>25%</th>\n",
       "      <td>1.752735</td>\n",
       "      <td>17.342618</td>\n",
       "      <td>12.000000</td>\n",
       "      <td>400.000000</td>\n",
       "    </tr>\n",
       "    <tr>\n",
       "      <th>50%</th>\n",
       "      <td>2.815839</td>\n",
       "      <td>17.342618</td>\n",
       "      <td>14.000000</td>\n",
       "      <td>600.000000</td>\n",
       "    </tr>\n",
       "    <tr>\n",
       "      <th>75%</th>\n",
       "      <td>4.353960</td>\n",
       "      <td>17.342618</td>\n",
       "      <td>17.000000</td>\n",
       "      <td>800.000000</td>\n",
       "    </tr>\n",
       "    <tr>\n",
       "      <th>max</th>\n",
       "      <td>5.518559</td>\n",
       "      <td>18.180340</td>\n",
       "      <td>34.000000</td>\n",
       "      <td>1000.000000</td>\n",
       "    </tr>\n",
       "  </tbody>\n",
       "</table>\n",
       "</div>"
      ],
      "text/plain": [
       "       wall clock time      score  iterations     pop size\n",
       "count         9.000000   9.000000    9.000000     9.000000\n",
       "mean          2.986116  17.528778   15.888889   600.000000\n",
       "std           1.551049   0.369401    7.184087   273.861279\n",
       "min           0.951417  17.342618   11.000000   200.000000\n",
       "25%           1.752735  17.342618   12.000000   400.000000\n",
       "50%           2.815839  17.342618   14.000000   600.000000\n",
       "75%           4.353960  17.342618   17.000000   800.000000\n",
       "max           5.518559  18.180340   34.000000  1000.000000"
      ]
     },
     "execution_count": 380,
     "metadata": {},
     "output_type": "execute_result"
    }
   ],
   "source": [
    "# GA\n",
    "times = []\n",
    "scores = []\n",
    "iterations = []\n",
    "population_size =[]\n",
    "population = 100\n",
    "\n",
    "for x in range(0,9):\n",
    "    population = population + 100\n",
    "    \n",
    "    start = time.time()\n",
    "    best_state, best_fitness, fitness_curve = mlrose.genetic_alg(problem_fit, mutation_prob = 0.3, pop_size=population, random_state = 2, curve=True)\n",
    "    end = time.time()\n",
    "    \n",
    "    times.append(end-start)\n",
    "    scores.append(best_fitness)\n",
    "    iterations.append(fitness_curve.size)\n",
    "    population_size.append(population)\n",
    "\n",
    "df = pd.DataFrame()\n",
    "df['wall clock time']=times\n",
    "df['score']=scores\n",
    "df['iterations']=iterations\n",
    "df['pop size'] =population_size\n",
    "print(df)\n",
    "df.describe()"
   ]
  },
  {
   "cell_type": "code",
   "execution_count": 9,
   "id": "ad9420ce",
   "metadata": {},
   "outputs": [
    {
     "name": "stdout",
     "output_type": "stream",
     "text": [
      "   wall clock time      score  iterations  num of restarts\n",
      "0         0.026448  17.342618          13                1\n",
      "1         0.027731  17.342618          13                3\n",
      "2         0.041140  19.549823          13                7\n",
      "3         0.056175  17.342618          13               13\n",
      "4         0.085633  17.342618          13               21\n",
      "5         0.126632  17.342618          13               31\n",
      "6         0.158816  17.342618          13               43\n",
      "7         0.222309  17.342618          13               57\n",
      "8         0.273185  17.342618          13               73\n"
     ]
    },
    {
     "data": {
      "text/html": [
       "<div>\n",
       "<style scoped>\n",
       "    .dataframe tbody tr th:only-of-type {\n",
       "        vertical-align: middle;\n",
       "    }\n",
       "\n",
       "    .dataframe tbody tr th {\n",
       "        vertical-align: top;\n",
       "    }\n",
       "\n",
       "    .dataframe thead th {\n",
       "        text-align: right;\n",
       "    }\n",
       "</style>\n",
       "<table border=\"1\" class=\"dataframe\">\n",
       "  <thead>\n",
       "    <tr style=\"text-align: right;\">\n",
       "      <th></th>\n",
       "      <th>wall clock time</th>\n",
       "      <th>score</th>\n",
       "      <th>iterations</th>\n",
       "      <th>num of restarts</th>\n",
       "    </tr>\n",
       "  </thead>\n",
       "  <tbody>\n",
       "    <tr>\n",
       "      <th>count</th>\n",
       "      <td>9.000000</td>\n",
       "      <td>9.000000</td>\n",
       "      <td>9.0</td>\n",
       "      <td>9.000000</td>\n",
       "    </tr>\n",
       "    <tr>\n",
       "      <th>mean</th>\n",
       "      <td>0.113119</td>\n",
       "      <td>17.587863</td>\n",
       "      <td>13.0</td>\n",
       "      <td>27.666667</td>\n",
       "    </tr>\n",
       "    <tr>\n",
       "      <th>std</th>\n",
       "      <td>0.089300</td>\n",
       "      <td>0.735735</td>\n",
       "      <td>0.0</td>\n",
       "      <td>25.416530</td>\n",
       "    </tr>\n",
       "    <tr>\n",
       "      <th>min</th>\n",
       "      <td>0.026448</td>\n",
       "      <td>17.342618</td>\n",
       "      <td>13.0</td>\n",
       "      <td>1.000000</td>\n",
       "    </tr>\n",
       "    <tr>\n",
       "      <th>25%</th>\n",
       "      <td>0.041140</td>\n",
       "      <td>17.342618</td>\n",
       "      <td>13.0</td>\n",
       "      <td>7.000000</td>\n",
       "    </tr>\n",
       "    <tr>\n",
       "      <th>50%</th>\n",
       "      <td>0.085633</td>\n",
       "      <td>17.342618</td>\n",
       "      <td>13.0</td>\n",
       "      <td>21.000000</td>\n",
       "    </tr>\n",
       "    <tr>\n",
       "      <th>75%</th>\n",
       "      <td>0.158816</td>\n",
       "      <td>17.342618</td>\n",
       "      <td>13.0</td>\n",
       "      <td>43.000000</td>\n",
       "    </tr>\n",
       "    <tr>\n",
       "      <th>max</th>\n",
       "      <td>0.273185</td>\n",
       "      <td>19.549823</td>\n",
       "      <td>13.0</td>\n",
       "      <td>73.000000</td>\n",
       "    </tr>\n",
       "  </tbody>\n",
       "</table>\n",
       "</div>"
      ],
      "text/plain": [
       "       wall clock time      score  iterations  num of restarts\n",
       "count         9.000000   9.000000         9.0         9.000000\n",
       "mean          0.113119  17.587863        13.0        27.666667\n",
       "std           0.089300   0.735735         0.0        25.416530\n",
       "min           0.026448  17.342618        13.0         1.000000\n",
       "25%           0.041140  17.342618        13.0         7.000000\n",
       "50%           0.085633  17.342618        13.0        21.000000\n",
       "75%           0.158816  17.342618        13.0        43.000000\n",
       "max           0.273185  19.549823        13.0        73.000000"
      ]
     },
     "execution_count": 9,
     "metadata": {},
     "output_type": "execute_result"
    }
   ],
   "source": [
    "# RHC\n",
    "times = []\n",
    "scores = []\n",
    "iterations = []\n",
    "num_of_restarts =[]\n",
    "restart = 1\n",
    "for x in range(0,9):\n",
    "    restart = restart + 2*x\n",
    "    \n",
    "    start = time.time()\n",
    "    best_state, best_fitness, RHC_fitness_curve = mlrose.random_hill_climb(problem_fit, restarts = restart, curve = True)\n",
    "    end = time.time()\n",
    "    \n",
    "    times.append(end-start)\n",
    "    scores.append(best_fitness)\n",
    "    iterations.append(fitness_curve.size)\n",
    "    num_of_restarts.append(restart)\n",
    "    \n",
    "    \n",
    "df = pd.DataFrame()\n",
    "df['wall clock time']=times\n",
    "df['score']=scores\n",
    "df['iterations']=iterations\n",
    "df['num of restarts'] =num_of_restarts\n",
    "print(df)\n",
    "df.describe()"
   ]
  },
  {
   "cell_type": "code",
   "execution_count": 10,
   "id": "08df8314",
   "metadata": {
    "scrolled": true
   },
   "outputs": [
    {
     "name": "stdout",
     "output_type": "stream",
     "text": [
      "   wall clock time      score  iterations  num of attempts\n",
      "0         0.011010  22.032759          26               10\n",
      "1         0.004950  20.748224          15               11\n",
      "2         0.009733  22.535880          29               12\n",
      "3         0.019823  17.342618          56               13\n",
      "4         0.017438  17.342618          77               14\n",
      "5         0.009916  18.180340          55               15\n",
      "6         0.014817  18.180340          81               16\n",
      "7         0.007611  17.342618          40               17\n",
      "8         0.017404  20.465723          97               18\n"
     ]
    },
    {
     "data": {
      "text/html": [
       "<div>\n",
       "<style scoped>\n",
       "    .dataframe tbody tr th:only-of-type {\n",
       "        vertical-align: middle;\n",
       "    }\n",
       "\n",
       "    .dataframe tbody tr th {\n",
       "        vertical-align: top;\n",
       "    }\n",
       "\n",
       "    .dataframe thead th {\n",
       "        text-align: right;\n",
       "    }\n",
       "</style>\n",
       "<table border=\"1\" class=\"dataframe\">\n",
       "  <thead>\n",
       "    <tr style=\"text-align: right;\">\n",
       "      <th></th>\n",
       "      <th>wall clock time</th>\n",
       "      <th>score</th>\n",
       "      <th>iterations</th>\n",
       "      <th>num of attempts</th>\n",
       "    </tr>\n",
       "  </thead>\n",
       "  <tbody>\n",
       "    <tr>\n",
       "      <th>count</th>\n",
       "      <td>9.000000</td>\n",
       "      <td>9.000000</td>\n",
       "      <td>9.000000</td>\n",
       "      <td>9.000000</td>\n",
       "    </tr>\n",
       "    <tr>\n",
       "      <th>mean</th>\n",
       "      <td>0.012523</td>\n",
       "      <td>19.352347</td>\n",
       "      <td>52.888889</td>\n",
       "      <td>14.000000</td>\n",
       "    </tr>\n",
       "    <tr>\n",
       "      <th>std</th>\n",
       "      <td>0.005061</td>\n",
       "      <td>2.102731</td>\n",
       "      <td>27.899124</td>\n",
       "      <td>2.738613</td>\n",
       "    </tr>\n",
       "    <tr>\n",
       "      <th>min</th>\n",
       "      <td>0.004950</td>\n",
       "      <td>17.342618</td>\n",
       "      <td>15.000000</td>\n",
       "      <td>10.000000</td>\n",
       "    </tr>\n",
       "    <tr>\n",
       "      <th>25%</th>\n",
       "      <td>0.009733</td>\n",
       "      <td>17.342618</td>\n",
       "      <td>29.000000</td>\n",
       "      <td>12.000000</td>\n",
       "    </tr>\n",
       "    <tr>\n",
       "      <th>50%</th>\n",
       "      <td>0.011010</td>\n",
       "      <td>18.180340</td>\n",
       "      <td>55.000000</td>\n",
       "      <td>14.000000</td>\n",
       "    </tr>\n",
       "    <tr>\n",
       "      <th>75%</th>\n",
       "      <td>0.017404</td>\n",
       "      <td>20.748224</td>\n",
       "      <td>77.000000</td>\n",
       "      <td>16.000000</td>\n",
       "    </tr>\n",
       "    <tr>\n",
       "      <th>max</th>\n",
       "      <td>0.019823</td>\n",
       "      <td>22.535880</td>\n",
       "      <td>97.000000</td>\n",
       "      <td>18.000000</td>\n",
       "    </tr>\n",
       "  </tbody>\n",
       "</table>\n",
       "</div>"
      ],
      "text/plain": [
       "       wall clock time      score  iterations  num of attempts\n",
       "count         9.000000   9.000000    9.000000         9.000000\n",
       "mean          0.012523  19.352347   52.888889        14.000000\n",
       "std           0.005061   2.102731   27.899124         2.738613\n",
       "min           0.004950  17.342618   15.000000        10.000000\n",
       "25%           0.009733  17.342618   29.000000        12.000000\n",
       "50%           0.011010  18.180340   55.000000        14.000000\n",
       "75%           0.017404  20.748224   77.000000        16.000000\n",
       "max           0.019823  22.535880   97.000000        18.000000"
      ]
     },
     "execution_count": 10,
     "metadata": {},
     "output_type": "execute_result"
    }
   ],
   "source": [
    "# SA\n",
    "times = []\n",
    "scores = []\n",
    "iterations = []\n",
    "num_of_attempts =[]\n",
    "max_attempt = 9\n",
    "\n",
    "for x in range(0,9):\n",
    "    max_attempt = max_attempt + 1\n",
    "    \n",
    "    start = time.time()\n",
    "    best_state, best_fitness, fitness_curve = mlrose.simulated_annealing(problem_fit, max_attempts = max_attempt, curve=True)\n",
    "    end = time.time()\n",
    "    \n",
    "    times.append(end-start)\n",
    "    scores.append(best_fitness)\n",
    "    iterations.append(fitness_curve.size)\n",
    "    num_of_attempts.append(max_attempt)\n",
    "    \n",
    "df = pd.DataFrame()\n",
    "df['wall clock time']=times\n",
    "df['score']=scores\n",
    "df['iterations']=iterations\n",
    "df['num of attempts'] =num_of_attempts\n",
    "print(df)\n",
    "df.describe()"
   ]
  },
  {
   "cell_type": "code",
   "execution_count": 11,
   "id": "75316c32",
   "metadata": {},
   "outputs": [
    {
     "name": "stdout",
     "output_type": "stream",
     "text": [
      "   wall clock time      score  iterations  pop size\n",
      "0         2.430541  17.342618          12       200\n",
      "1         3.871137  17.342618          14       300\n",
      "2         4.295886  17.342618          12       400\n",
      "3         5.260420  17.342618          12       500\n",
      "4         5.743879  17.342618          11       600\n",
      "5         6.633684  17.342618          11       700\n",
      "6         8.272626  17.342618          12       800\n",
      "7         9.244153  17.342618          12       900\n",
      "8        10.179909  17.342618          12      1000\n"
     ]
    },
    {
     "data": {
      "text/html": [
       "<div>\n",
       "<style scoped>\n",
       "    .dataframe tbody tr th:only-of-type {\n",
       "        vertical-align: middle;\n",
       "    }\n",
       "\n",
       "    .dataframe tbody tr th {\n",
       "        vertical-align: top;\n",
       "    }\n",
       "\n",
       "    .dataframe thead th {\n",
       "        text-align: right;\n",
       "    }\n",
       "</style>\n",
       "<table border=\"1\" class=\"dataframe\">\n",
       "  <thead>\n",
       "    <tr style=\"text-align: right;\">\n",
       "      <th></th>\n",
       "      <th>wall clock time</th>\n",
       "      <th>score</th>\n",
       "      <th>iterations</th>\n",
       "      <th>pop size</th>\n",
       "    </tr>\n",
       "  </thead>\n",
       "  <tbody>\n",
       "    <tr>\n",
       "      <th>count</th>\n",
       "      <td>9.000000</td>\n",
       "      <td>9.000000e+00</td>\n",
       "      <td>9.000000</td>\n",
       "      <td>9.000000</td>\n",
       "    </tr>\n",
       "    <tr>\n",
       "      <th>mean</th>\n",
       "      <td>6.214693</td>\n",
       "      <td>1.734262e+01</td>\n",
       "      <td>12.000000</td>\n",
       "      <td>600.000000</td>\n",
       "    </tr>\n",
       "    <tr>\n",
       "      <th>std</th>\n",
       "      <td>2.596570</td>\n",
       "      <td>3.552714e-15</td>\n",
       "      <td>0.866025</td>\n",
       "      <td>273.861279</td>\n",
       "    </tr>\n",
       "    <tr>\n",
       "      <th>min</th>\n",
       "      <td>2.430541</td>\n",
       "      <td>1.734262e+01</td>\n",
       "      <td>11.000000</td>\n",
       "      <td>200.000000</td>\n",
       "    </tr>\n",
       "    <tr>\n",
       "      <th>25%</th>\n",
       "      <td>4.295886</td>\n",
       "      <td>1.734262e+01</td>\n",
       "      <td>12.000000</td>\n",
       "      <td>400.000000</td>\n",
       "    </tr>\n",
       "    <tr>\n",
       "      <th>50%</th>\n",
       "      <td>5.743879</td>\n",
       "      <td>1.734262e+01</td>\n",
       "      <td>12.000000</td>\n",
       "      <td>600.000000</td>\n",
       "    </tr>\n",
       "    <tr>\n",
       "      <th>75%</th>\n",
       "      <td>8.272626</td>\n",
       "      <td>1.734262e+01</td>\n",
       "      <td>12.000000</td>\n",
       "      <td>800.000000</td>\n",
       "    </tr>\n",
       "    <tr>\n",
       "      <th>max</th>\n",
       "      <td>10.179909</td>\n",
       "      <td>1.734262e+01</td>\n",
       "      <td>14.000000</td>\n",
       "      <td>1000.000000</td>\n",
       "    </tr>\n",
       "  </tbody>\n",
       "</table>\n",
       "</div>"
      ],
      "text/plain": [
       "       wall clock time         score  iterations     pop size\n",
       "count         9.000000  9.000000e+00    9.000000     9.000000\n",
       "mean          6.214693  1.734262e+01   12.000000   600.000000\n",
       "std           2.596570  3.552714e-15    0.866025   273.861279\n",
       "min           2.430541  1.734262e+01   11.000000   200.000000\n",
       "25%           4.295886  1.734262e+01   12.000000   400.000000\n",
       "50%           5.743879  1.734262e+01   12.000000   600.000000\n",
       "75%           8.272626  1.734262e+01   12.000000   800.000000\n",
       "max          10.179909  1.734262e+01   14.000000  1000.000000"
      ]
     },
     "execution_count": 11,
     "metadata": {},
     "output_type": "execute_result"
    }
   ],
   "source": [
    "# MIMIC\n",
    "times = []\n",
    "scores = []\n",
    "iterations = []\n",
    "population_size =[]\n",
    "population = 100\n",
    "\n",
    "for x in range(0,9):\n",
    "    population = population + 100\n",
    "    \n",
    "    start = time.time()\n",
    "    best_state, best_fitness, fitness_curve = mlrose.mimic(problem_fit, pop_size=population, random_state = 2, curve=True)\n",
    "    end = time.time()\n",
    "    \n",
    "    times.append(end-start)\n",
    "    scores.append(best_fitness)\n",
    "    iterations.append(fitness_curve.size)\n",
    "    population_size.append(population)\n",
    "\n",
    "df = pd.DataFrame()\n",
    "df['wall clock time']=times\n",
    "df['score']=scores\n",
    "df['iterations']=iterations\n",
    "df['pop size'] =population_size\n",
    "print(df)\n",
    "df.describe()"
   ]
  },
  {
   "cell_type": "code",
   "execution_count": 12,
   "id": "b21c4fe2",
   "metadata": {},
   "outputs": [
    {
     "name": "stdout",
     "output_type": "stream",
     "text": [
      "[(21, 10), (2, 16), (6, 15), (5, 6), (9, 20), (20, 8), (1, 9), (11, 11), (4, 20), (16, 21), (15, 21), (8, 13), (12, 8), (19, 15), (13, 8), (7, 7), (7, 19), (14, 9), (1, 15), (4, 15), (4, 19), (16, 19), (16, 9), (13, 5), (9, 14), (7, 9), (3, 4), (14, 1), (5, 18), (19, 10), (18, 6), (8, 1), (12, 11), (16, 12), (20, 20), (13, 14), (8, 21), (13, 1), (17, 9), (8, 18), (18, 18), (12, 9), (15, 6), (9, 2), (9, 1), (21, 18), (11, 18), (15, 13), (9, 10), (2, 21), (2, 5), (8, 17), (12, 12), (11, 8), (1, 5), (18, 7), (8, 11), (18, 11), (19, 16), (1, 18)]\n"
     ]
    }
   ],
   "source": [
    "## TSP with bigger n, n = 60\n",
    "\n",
    "#build list of 60 cities that are unique\n",
    "coords_list =[]\n",
    "for x in range(0,60):\n",
    "    coord = tuple((random.randint(1,21), random.randint(1,21)))\n",
    "    while coord in coords_list:\n",
    "        coord = tuple((random.randint(1,21), random.randint(1,21)))\n",
    "    coords_list.append(coord)\n",
    "print(coords_list)"
   ]
  },
  {
   "cell_type": "code",
   "execution_count": 383,
   "id": "c83cf172",
   "metadata": {},
   "outputs": [],
   "source": [
    "# Initialize fitness function object using coords_list\n",
    "fitness_coords = mlrose.TravellingSales(coords = coords_list)\n",
    "\n",
    "# Define optimization problem object\n",
    "problem_fit = mlrose.TSPOpt(length = 60, fitness_fn = fitness_coords, maximize=False)"
   ]
  },
  {
   "cell_type": "code",
   "execution_count": 384,
   "id": "20f7efa0",
   "metadata": {},
   "outputs": [
    {
     "name": "stdout",
     "output_type": "stream",
     "text": [
      "   wall clock time       score  iterations  pop size\n",
      "0         7.012750  502.705872          14       350\n",
      "1         7.423166  500.122312          12       400\n",
      "2        10.468870  503.886786          16       450\n",
      "3         8.594728  533.192446          12       500\n",
      "4        13.209759  507.217322          17       550\n",
      "5        10.320035  513.754728          12       600\n",
      "6        21.031990  516.060964          23       650\n",
      "7        23.603174  515.426837          24       700\n",
      "8        21.673936  513.768235          20       750\n"
     ]
    },
    {
     "data": {
      "text/html": [
       "<div>\n",
       "<style scoped>\n",
       "    .dataframe tbody tr th:only-of-type {\n",
       "        vertical-align: middle;\n",
       "    }\n",
       "\n",
       "    .dataframe tbody tr th {\n",
       "        vertical-align: top;\n",
       "    }\n",
       "\n",
       "    .dataframe thead th {\n",
       "        text-align: right;\n",
       "    }\n",
       "</style>\n",
       "<table border=\"1\" class=\"dataframe\">\n",
       "  <thead>\n",
       "    <tr style=\"text-align: right;\">\n",
       "      <th></th>\n",
       "      <th>wall clock time</th>\n",
       "      <th>score</th>\n",
       "      <th>iterations</th>\n",
       "      <th>pop size</th>\n",
       "    </tr>\n",
       "  </thead>\n",
       "  <tbody>\n",
       "    <tr>\n",
       "      <th>count</th>\n",
       "      <td>9.000000</td>\n",
       "      <td>9.000000</td>\n",
       "      <td>9.000000</td>\n",
       "      <td>9.000000</td>\n",
       "    </tr>\n",
       "    <tr>\n",
       "      <th>mean</th>\n",
       "      <td>13.704267</td>\n",
       "      <td>511.792834</td>\n",
       "      <td>16.666667</td>\n",
       "      <td>550.000000</td>\n",
       "    </tr>\n",
       "    <tr>\n",
       "      <th>std</th>\n",
       "      <td>6.592618</td>\n",
       "      <td>9.995827</td>\n",
       "      <td>4.716991</td>\n",
       "      <td>136.930639</td>\n",
       "    </tr>\n",
       "    <tr>\n",
       "      <th>min</th>\n",
       "      <td>7.012750</td>\n",
       "      <td>500.122312</td>\n",
       "      <td>12.000000</td>\n",
       "      <td>350.000000</td>\n",
       "    </tr>\n",
       "    <tr>\n",
       "      <th>25%</th>\n",
       "      <td>8.594728</td>\n",
       "      <td>503.886786</td>\n",
       "      <td>12.000000</td>\n",
       "      <td>450.000000</td>\n",
       "    </tr>\n",
       "    <tr>\n",
       "      <th>50%</th>\n",
       "      <td>10.468870</td>\n",
       "      <td>513.754728</td>\n",
       "      <td>16.000000</td>\n",
       "      <td>550.000000</td>\n",
       "    </tr>\n",
       "    <tr>\n",
       "      <th>75%</th>\n",
       "      <td>21.031990</td>\n",
       "      <td>515.426837</td>\n",
       "      <td>20.000000</td>\n",
       "      <td>650.000000</td>\n",
       "    </tr>\n",
       "    <tr>\n",
       "      <th>max</th>\n",
       "      <td>23.603174</td>\n",
       "      <td>533.192446</td>\n",
       "      <td>24.000000</td>\n",
       "      <td>750.000000</td>\n",
       "    </tr>\n",
       "  </tbody>\n",
       "</table>\n",
       "</div>"
      ],
      "text/plain": [
       "       wall clock time       score  iterations    pop size\n",
       "count         9.000000    9.000000    9.000000    9.000000\n",
       "mean         13.704267  511.792834   16.666667  550.000000\n",
       "std           6.592618    9.995827    4.716991  136.930639\n",
       "min           7.012750  500.122312   12.000000  350.000000\n",
       "25%           8.594728  503.886786   12.000000  450.000000\n",
       "50%          10.468870  513.754728   16.000000  550.000000\n",
       "75%          21.031990  515.426837   20.000000  650.000000\n",
       "max          23.603174  533.192446   24.000000  750.000000"
      ]
     },
     "execution_count": 384,
     "metadata": {},
     "output_type": "execute_result"
    },
    {
     "data": {
      "image/png": "[encoded data removed]",
      "text/plain": [
       "<Figure size 432x288 with 1 Axes>"
      ]
     },
     "metadata": {
      "needs_background": "light"
     },
     "output_type": "display_data"
    }
   ],
   "source": [
    "# GA\n",
    "import matplotlib.pyplot as plt\n",
    "\n",
    "times = []\n",
    "scores = []\n",
    "iterations = []\n",
    "population_size =[]\n",
    "population = 300\n",
    "\n",
    "for x in range(0,9):\n",
    "    population = population + 50\n",
    "    \n",
    "    start = time.time()\n",
    "    best_state, best_fitness, fitness_curve = mlrose.genetic_alg(problem_fit, mutation_prob = 0.3, pop_size=population, random_state = 2, curve=True)\n",
    "    end = time.time()\n",
    "    \n",
    "    times.append(end-start)\n",
    "    scores.append(best_fitness)\n",
    "    iterations.append(fitness_curve.size)\n",
    "    population_size.append(population)\n",
    "    \n",
    "df = pd.DataFrame()\n",
    "df['wall clock time']=times\n",
    "df['score']=scores\n",
    "df['iterations']=iterations\n",
    "df['pop size'] =population_size\n",
    "print(df)\n",
    "\n",
    "x=population_size\n",
    "y=scores\n",
    "plt.plot(x,y)\n",
    "plt.title(\"GA for TSP, n = 60\")\n",
    "plt.xlabel(\"population\")\n",
    "plt.ylabel(\"fitness score\")\n",
    "\n",
    "df.describe()"
   ]
  },
  {
   "cell_type": "code",
   "execution_count": 385,
   "id": "ab5917b8",
   "metadata": {},
   "outputs": [
    {
     "data": {
      "text/plain": [
       "Text(0.5, 1.0, 'Fitness Convergence for TSP using GA, n = 60')"
      ]
     },
     "execution_count": 385,
     "metadata": {},
     "output_type": "execute_result"
    },
    {
     "data": {
      "image/png": "[encoded data removed]",
      "text/plain": [
       "<Figure size 432x288 with 1 Axes>"
      ]
     },
     "metadata": {
      "needs_background": "light"
     },
     "output_type": "display_data"
    }
   ],
   "source": [
    "plt.plot(fitness_curve)\n",
    "plt.xlabel('iterations')\n",
    "plt.ylabel('fitness')\n",
    "plt.title('Fitness Convergence for TSP using GA, n = 60')"
   ]
  },
  {
   "cell_type": "code",
   "execution_count": 386,
   "id": "b213cda8",
   "metadata": {},
   "outputs": [
    {
     "name": "stdout",
     "output_type": "stream",
     "text": [
      "   wall clock time       score  iterations  num of restarts\n",
      "0         0.303687  417.894620         263                2\n",
      "1         0.262851  465.097182         267                3\n",
      "2         0.399035  470.603092         394                4\n",
      "3         0.854333  417.627714         724                5\n",
      "4         0.564190  428.528558         449                6\n",
      "5         0.656743  422.870327         574                7\n",
      "6         0.863001  414.777714         761                8\n",
      "7         0.862721  418.843364         832                9\n",
      "8         0.761492  451.454371         713               10\n"
     ]
    },
    {
     "data": {
      "text/html": [
       "<div>\n",
       "<style scoped>\n",
       "    .dataframe tbody tr th:only-of-type {\n",
       "        vertical-align: middle;\n",
       "    }\n",
       "\n",
       "    .dataframe tbody tr th {\n",
       "        vertical-align: top;\n",
       "    }\n",
       "\n",
       "    .dataframe thead th {\n",
       "        text-align: right;\n",
       "    }\n",
       "</style>\n",
       "<table border=\"1\" class=\"dataframe\">\n",
       "  <thead>\n",
       "    <tr style=\"text-align: right;\">\n",
       "      <th></th>\n",
       "      <th>wall clock time</th>\n",
       "      <th>score</th>\n",
       "      <th>iterations</th>\n",
       "      <th>num of restarts</th>\n",
       "    </tr>\n",
       "  </thead>\n",
       "  <tbody>\n",
       "    <tr>\n",
       "      <th>count</th>\n",
       "      <td>9.000000</td>\n",
       "      <td>9.000000</td>\n",
       "      <td>9.000000</td>\n",
       "      <td>9.000000</td>\n",
       "    </tr>\n",
       "    <tr>\n",
       "      <th>mean</th>\n",
       "      <td>0.614228</td>\n",
       "      <td>434.188549</td>\n",
       "      <td>553.000000</td>\n",
       "      <td>6.000000</td>\n",
       "    </tr>\n",
       "    <tr>\n",
       "      <th>std</th>\n",
       "      <td>0.243284</td>\n",
       "      <td>22.055661</td>\n",
       "      <td>217.479884</td>\n",
       "      <td>2.738613</td>\n",
       "    </tr>\n",
       "    <tr>\n",
       "      <th>min</th>\n",
       "      <td>0.262851</td>\n",
       "      <td>414.777714</td>\n",
       "      <td>263.000000</td>\n",
       "      <td>2.000000</td>\n",
       "    </tr>\n",
       "    <tr>\n",
       "      <th>25%</th>\n",
       "      <td>0.399035</td>\n",
       "      <td>417.894620</td>\n",
       "      <td>394.000000</td>\n",
       "      <td>4.000000</td>\n",
       "    </tr>\n",
       "    <tr>\n",
       "      <th>50%</th>\n",
       "      <td>0.656743</td>\n",
       "      <td>422.870327</td>\n",
       "      <td>574.000000</td>\n",
       "      <td>6.000000</td>\n",
       "    </tr>\n",
       "    <tr>\n",
       "      <th>75%</th>\n",
       "      <td>0.854333</td>\n",
       "      <td>451.454371</td>\n",
       "      <td>724.000000</td>\n",
       "      <td>8.000000</td>\n",
       "    </tr>\n",
       "    <tr>\n",
       "      <th>max</th>\n",
       "      <td>0.863001</td>\n",
       "      <td>470.603092</td>\n",
       "      <td>832.000000</td>\n",
       "      <td>10.000000</td>\n",
       "    </tr>\n",
       "  </tbody>\n",
       "</table>\n",
       "</div>"
      ],
      "text/plain": [
       "       wall clock time       score  iterations  num of restarts\n",
       "count         9.000000    9.000000    9.000000         9.000000\n",
       "mean          0.614228  434.188549  553.000000         6.000000\n",
       "std           0.243284   22.055661  217.479884         2.738613\n",
       "min           0.262851  414.777714  263.000000         2.000000\n",
       "25%           0.399035  417.894620  394.000000         4.000000\n",
       "50%           0.656743  422.870327  574.000000         6.000000\n",
       "75%           0.854333  451.454371  724.000000         8.000000\n",
       "max           0.863001  470.603092  832.000000        10.000000"
      ]
     },
     "execution_count": 386,
     "metadata": {},
     "output_type": "execute_result"
    },
    {
     "data": {
      "image/png": "[encoded data removed]",
      "text/plain": [
       "<Figure size 432x288 with 1 Axes>"
      ]
     },
     "metadata": {
      "needs_background": "light"
     },
     "output_type": "display_data"
    }
   ],
   "source": [
    "# RHC\n",
    "times = []\n",
    "scores = []\n",
    "iterations = []\n",
    "num_of_restarts =[]\n",
    "restart = 1\n",
    "for x in range(0,9):\n",
    "    restart = restart + 1\n",
    "    \n",
    "    start = time.time()\n",
    "    best_state, best_fitness, fitness_curve = mlrose.random_hill_climb(problem_fit, restarts = restart, curve = True)\n",
    "    end = time.time()\n",
    "    \n",
    "    times.append(end-start)\n",
    "    scores.append(best_fitness)\n",
    "    iterations.append(fitness_curve.size)\n",
    "    num_of_restarts.append(restart)\n",
    "    \n",
    "    \n",
    "df = pd.DataFrame()\n",
    "df['wall clock time']=times\n",
    "df['score']=scores\n",
    "df['iterations']=iterations\n",
    "df['num of restarts'] =num_of_restarts\n",
    "print(df)\n",
    "\n",
    "x=num_of_restarts\n",
    "y=scores\n",
    "plt.plot(x,y)\n",
    "plt.title(\"RHC for TSP, n = 60\")\n",
    "plt.xlabel(\"# restarts\")\n",
    "plt.ylabel(\"fitness score\")\n",
    "\n",
    "df.describe()"
   ]
  },
  {
   "cell_type": "code",
   "execution_count": 387,
   "id": "9d6aaf42",
   "metadata": {},
   "outputs": [
    {
     "data": {
      "text/plain": [
       "Text(0.5, 1.0, 'Fitness Convergence for TSP using RHC, n = 60')"
      ]
     },
     "execution_count": 387,
     "metadata": {},
     "output_type": "execute_result"
    },
    {
     "data": {
      "image/png": "[encoded data removed]",
      "text/plain": [
       "<Figure size 432x288 with 1 Axes>"
      ]
     },
     "metadata": {
      "needs_background": "light"
     },
     "output_type": "display_data"
    }
   ],
   "source": [
    "plt.plot(fitness_curve)\n",
    "plt.xlabel('iterations')\n",
    "plt.ylabel('fitness')\n",
    "plt.title('Fitness Convergence for TSP using RHC, n = 60')"
   ]
  },
  {
   "cell_type": "code",
   "execution_count": 388,
   "id": "9a92b47a",
   "metadata": {
    "scrolled": true
   },
   "outputs": [
    {
     "name": "stdout",
     "output_type": "stream",
     "text": [
      "   wall clock time       score  iterations  num of attempts\n",
      "0         0.027023  555.423431          15                3\n",
      "1         0.005838  605.898822           5                4\n",
      "2         0.056924  543.209548          46                5\n",
      "3         0.042422  520.184282          32                6\n",
      "4         0.015015  597.122458          13                7\n",
      "5         0.048444  540.514392          44                8\n",
      "6         0.086653  486.661049          82                9\n",
      "7         0.101720  457.819277          92               10\n",
      "8         0.168416  456.903693         160               11\n"
     ]
    },
    {
     "data": {
      "text/html": [
       "<div>\n",
       "<style scoped>\n",
       "    .dataframe tbody tr th:only-of-type {\n",
       "        vertical-align: middle;\n",
       "    }\n",
       "\n",
       "    .dataframe tbody tr th {\n",
       "        vertical-align: top;\n",
       "    }\n",
       "\n",
       "    .dataframe thead th {\n",
       "        text-align: right;\n",
       "    }\n",
       "</style>\n",
       "<table border=\"1\" class=\"dataframe\">\n",
       "  <thead>\n",
       "    <tr style=\"text-align: right;\">\n",
       "      <th></th>\n",
       "      <th>wall clock time</th>\n",
       "      <th>score</th>\n",
       "      <th>iterations</th>\n",
       "      <th>num of attempts</th>\n",
       "    </tr>\n",
       "  </thead>\n",
       "  <tbody>\n",
       "    <tr>\n",
       "      <th>count</th>\n",
       "      <td>9.000000</td>\n",
       "      <td>9.000000</td>\n",
       "      <td>9.000000</td>\n",
       "      <td>9.000000</td>\n",
       "    </tr>\n",
       "    <tr>\n",
       "      <th>mean</th>\n",
       "      <td>0.061384</td>\n",
       "      <td>529.304106</td>\n",
       "      <td>54.333333</td>\n",
       "      <td>7.000000</td>\n",
       "    </tr>\n",
       "    <tr>\n",
       "      <th>std</th>\n",
       "      <td>0.050848</td>\n",
       "      <td>54.452769</td>\n",
       "      <td>49.641213</td>\n",
       "      <td>2.738613</td>\n",
       "    </tr>\n",
       "    <tr>\n",
       "      <th>min</th>\n",
       "      <td>0.005838</td>\n",
       "      <td>456.903693</td>\n",
       "      <td>5.000000</td>\n",
       "      <td>3.000000</td>\n",
       "    </tr>\n",
       "    <tr>\n",
       "      <th>25%</th>\n",
       "      <td>0.027023</td>\n",
       "      <td>486.661049</td>\n",
       "      <td>15.000000</td>\n",
       "      <td>5.000000</td>\n",
       "    </tr>\n",
       "    <tr>\n",
       "      <th>50%</th>\n",
       "      <td>0.048444</td>\n",
       "      <td>540.514392</td>\n",
       "      <td>44.000000</td>\n",
       "      <td>7.000000</td>\n",
       "    </tr>\n",
       "    <tr>\n",
       "      <th>75%</th>\n",
       "      <td>0.086653</td>\n",
       "      <td>555.423431</td>\n",
       "      <td>82.000000</td>\n",
       "      <td>9.000000</td>\n",
       "    </tr>\n",
       "    <tr>\n",
       "      <th>max</th>\n",
       "      <td>0.168416</td>\n",
       "      <td>605.898822</td>\n",
       "      <td>160.000000</td>\n",
       "      <td>11.000000</td>\n",
       "    </tr>\n",
       "  </tbody>\n",
       "</table>\n",
       "</div>"
      ],
      "text/plain": [
       "       wall clock time       score  iterations  num of attempts\n",
       "count         9.000000    9.000000    9.000000         9.000000\n",
       "mean          0.061384  529.304106   54.333333         7.000000\n",
       "std           0.050848   54.452769   49.641213         2.738613\n",
       "min           0.005838  456.903693    5.000000         3.000000\n",
       "25%           0.027023  486.661049   15.000000         5.000000\n",
       "50%           0.048444  540.514392   44.000000         7.000000\n",
       "75%           0.086653  555.423431   82.000000         9.000000\n",
       "max           0.168416  605.898822  160.000000        11.000000"
      ]
     },
     "execution_count": 388,
     "metadata": {},
     "output_type": "execute_result"
    },
    {
     "data": {
      "image/png": "[encoded data removed]",
      "text/plain": [
       "<Figure size 432x288 with 1 Axes>"
      ]
     },
     "metadata": {
      "needs_background": "light"
     },
     "output_type": "display_data"
    }
   ],
   "source": [
    "# SA\n",
    "times = []\n",
    "scores = []\n",
    "iterations = []\n",
    "num_of_attempts =[]\n",
    "max_attempt = 2\n",
    "\n",
    "for x in range(0,9):\n",
    "    max_attempt = max_attempt + 1\n",
    "    \n",
    "    start = time.time()\n",
    "    best_state, best_fitness, fitness_curve = mlrose.simulated_annealing(problem_fit, max_attempts = max_attempt, curve=True)\n",
    "    end = time.time()\n",
    "    \n",
    "    times.append(end-start)\n",
    "    scores.append(best_fitness)\n",
    "    iterations.append(fitness_curve.size)\n",
    "    num_of_attempts.append(max_attempt)\n",
    "    \n",
    "df = pd.DataFrame()\n",
    "df['wall clock time']=times\n",
    "df['score']=scores\n",
    "df['iterations']=iterations\n",
    "df['num of attempts'] =num_of_attempts\n",
    "print(df)\n",
    "\n",
    "x=num_of_attempts\n",
    "y=scores\n",
    "plt.plot(x,y)\n",
    "plt.title(\"SA for TSP, n = 60\")\n",
    "plt.xlabel(\"# max attempts\")\n",
    "plt.ylabel(\"fitness score\")\n",
    "\n",
    "df.describe()"
   ]
  },
  {
   "cell_type": "code",
   "execution_count": 389,
   "id": "804b3152",
   "metadata": {},
   "outputs": [
    {
     "data": {
      "text/plain": [
       "Text(0.5, 1.0, 'Fitness Convergence for TSP using SA, n = 60')"
      ]
     },
     "execution_count": 389,
     "metadata": {},
     "output_type": "execute_result"
    },
    {
     "data": {
      "image/png": "[encoded data removed]",
      "text/plain": [
       "<Figure size 432x288 with 1 Axes>"
      ]
     },
     "metadata": {
      "needs_background": "light"
     },
     "output_type": "display_data"
    }
   ],
   "source": [
    "plt.plot(fitness_curve)\n",
    "plt.xlabel('iterations')\n",
    "plt.ylabel('fitness')\n",
    "plt.title('Fitness Convergence for TSP using SA, n = 60')"
   ]
  },
  {
   "cell_type": "code",
   "execution_count": 390,
   "id": "95a66c8c",
   "metadata": {},
   "outputs": [
    {
     "name": "stdout",
     "output_type": "stream",
     "text": [
      "   wall clock time       score  iterations  pop size\n",
      "0        20.274462  575.443953          11        25\n",
      "1        21.992609  559.897105          11        50\n",
      "2        23.938239  559.897105          11        75\n",
      "3        26.183962  559.897105          11       100\n",
      "4        28.930777  559.897105          11       125\n",
      "5        32.579185  558.888310          11       150\n",
      "6        51.145803  500.478201          17       175\n",
      "7        34.606491  565.524899          11       200\n",
      "8        36.776321  549.629856          11       225\n"
     ]
    },
    {
     "data": {
      "text/html": [
       "<div>\n",
       "<style scoped>\n",
       "    .dataframe tbody tr th:only-of-type {\n",
       "        vertical-align: middle;\n",
       "    }\n",
       "\n",
       "    .dataframe tbody tr th {\n",
       "        vertical-align: top;\n",
       "    }\n",
       "\n",
       "    .dataframe thead th {\n",
       "        text-align: right;\n",
       "    }\n",
       "</style>\n",
       "<table border=\"1\" class=\"dataframe\">\n",
       "  <thead>\n",
       "    <tr style=\"text-align: right;\">\n",
       "      <th></th>\n",
       "      <th>wall clock time</th>\n",
       "      <th>score</th>\n",
       "      <th>iterations</th>\n",
       "      <th>pop size</th>\n",
       "    </tr>\n",
       "  </thead>\n",
       "  <tbody>\n",
       "    <tr>\n",
       "      <th>count</th>\n",
       "      <td>9.000000</td>\n",
       "      <td>9.000000</td>\n",
       "      <td>9.000000</td>\n",
       "      <td>9.00000</td>\n",
       "    </tr>\n",
       "    <tr>\n",
       "      <th>mean</th>\n",
       "      <td>30.714206</td>\n",
       "      <td>554.394849</td>\n",
       "      <td>11.666667</td>\n",
       "      <td>125.00000</td>\n",
       "    </tr>\n",
       "    <tr>\n",
       "      <th>std</th>\n",
       "      <td>9.536112</td>\n",
       "      <td>21.324702</td>\n",
       "      <td>2.000000</td>\n",
       "      <td>68.46532</td>\n",
       "    </tr>\n",
       "    <tr>\n",
       "      <th>min</th>\n",
       "      <td>20.274462</td>\n",
       "      <td>500.478201</td>\n",
       "      <td>11.000000</td>\n",
       "      <td>25.00000</td>\n",
       "    </tr>\n",
       "    <tr>\n",
       "      <th>25%</th>\n",
       "      <td>23.938239</td>\n",
       "      <td>558.888310</td>\n",
       "      <td>11.000000</td>\n",
       "      <td>75.00000</td>\n",
       "    </tr>\n",
       "    <tr>\n",
       "      <th>50%</th>\n",
       "      <td>28.930777</td>\n",
       "      <td>559.897105</td>\n",
       "      <td>11.000000</td>\n",
       "      <td>125.00000</td>\n",
       "    </tr>\n",
       "    <tr>\n",
       "      <th>75%</th>\n",
       "      <td>34.606491</td>\n",
       "      <td>559.897105</td>\n",
       "      <td>11.000000</td>\n",
       "      <td>175.00000</td>\n",
       "    </tr>\n",
       "    <tr>\n",
       "      <th>max</th>\n",
       "      <td>51.145803</td>\n",
       "      <td>575.443953</td>\n",
       "      <td>17.000000</td>\n",
       "      <td>225.00000</td>\n",
       "    </tr>\n",
       "  </tbody>\n",
       "</table>\n",
       "</div>"
      ],
      "text/plain": [
       "       wall clock time       score  iterations   pop size\n",
       "count         9.000000    9.000000    9.000000    9.00000\n",
       "mean         30.714206  554.394849   11.666667  125.00000\n",
       "std           9.536112   21.324702    2.000000   68.46532\n",
       "min          20.274462  500.478201   11.000000   25.00000\n",
       "25%          23.938239  558.888310   11.000000   75.00000\n",
       "50%          28.930777  559.897105   11.000000  125.00000\n",
       "75%          34.606491  559.897105   11.000000  175.00000\n",
       "max          51.145803  575.443953   17.000000  225.00000"
      ]
     },
     "execution_count": 390,
     "metadata": {},
     "output_type": "execute_result"
    },
    {
     "data": {
      "image/png": "[encoded data removed]",
      "text/plain": [
       "<Figure size 432x288 with 1 Axes>"
      ]
     },
     "metadata": {
      "needs_background": "light"
     },
     "output_type": "display_data"
    }
   ],
   "source": [
    "# MIMIC\n",
    "times = []\n",
    "scores = []\n",
    "iterations = []\n",
    "population_size =[]\n",
    "population = 0\n",
    "\n",
    "for x in range(0,9):\n",
    "    population = population + 25\n",
    "    \n",
    "    start = time.time()\n",
    "    best_state, best_fitness, fitness_curve = mlrose.mimic(problem_fit, pop_size=population, random_state = 2, curve=True, max_iters=50, max_attempts=10)\n",
    "    end = time.time()\n",
    "    \n",
    "    times.append(end-start)\n",
    "    scores.append(best_fitness)\n",
    "    iterations.append(fitness_curve.size)\n",
    "    population_size.append(population)\n",
    "\n",
    "df = pd.DataFrame()\n",
    "df['wall clock time']=times\n",
    "df['score']=scores\n",
    "df['iterations']=iterations\n",
    "df['pop size'] =population_size\n",
    "print(df)\n",
    "\n",
    "x=population_size\n",
    "y=scores\n",
    "plt.plot(x,y)\n",
    "plt.title(\"MIMIC for TSP, n = 60\")\n",
    "plt.xlabel(\"population\")\n",
    "plt.ylabel(\"fitness score\")\n",
    "\n",
    "df.describe()"
   ]
  },
  {
   "cell_type": "code",
   "execution_count": 391,
   "id": "10d7e47b",
   "metadata": {},
   "outputs": [
    {
     "data": {
      "text/plain": [
       "Text(0.5, 1.0, 'Fitness Convergence for TSP using MIMIC, n = 60')"
      ]
     },
     "execution_count": 391,
     "metadata": {},
     "output_type": "execute_result"
    },
    {
     "data": {
      "image/png": "[encoded data removed]",
      "text/plain": [
       "<Figure size 432x288 with 1 Axes>"
      ]
     },
     "metadata": {
      "needs_background": "light"
     },
     "output_type": "display_data"
    }
   ],
   "source": [
    "plt.plot(fitness_curve)\n",
    "plt.xlabel('iterations')\n",
    "plt.ylabel('fitness')\n",
    "plt.title('Fitness Convergence for TSP using MIMIC, n = 60')"
   ]
  },
  {
   "cell_type": "code",
   "execution_count": 30,
   "id": "2a9b043b",
   "metadata": {},
   "outputs": [],
   "source": [
    "############## End Traveling Salesperson problem ##############"
   ]
  },
  {
   "cell_type": "code",
   "execution_count": 31,
   "id": "0c01f54d",
   "metadata": {},
   "outputs": [],
   "source": [
    "############## Begin Knapsack problem ##############"
   ]
  },
  {
   "cell_type": "code",
   "execution_count": 32,
   "id": "0df4cc5e",
   "metadata": {},
   "outputs": [
    {
     "name": "stdout",
     "output_type": "stream",
     "text": [
      "[1, 2, 3, 4, 5]\n",
      "[10, 5, 2, 8, 15]\n"
     ]
    }
   ],
   "source": [
    "## Knapsack n =5\n",
    "weights = [10, 5, 2, 8, 15]\n",
    "values = [1, 2, 3, 4, 5]\n",
    "\n",
    "max_weight_pct = 0.6\n",
    "fitness = mlrose.Knapsack(weights, values, max_weight_pct)\n",
    "print(values)\n",
    "print(weights)"
   ]
  },
  {
   "cell_type": "code",
   "execution_count": 33,
   "id": "f7e81010",
   "metadata": {},
   "outputs": [],
   "source": [
    "# Define optimization problem object\n",
    "problem = mlrose.DiscreteOpt(length=len(values), fitness_fn=fitness, maximize=True, max_val=2)"
   ]
  },
  {
   "cell_type": "code",
   "execution_count": 34,
   "id": "28327cd1",
   "metadata": {},
   "outputs": [
    {
     "name": "stdout",
     "output_type": "stream",
     "text": [
      "   wall clock time  score  iterations  pop size\n",
      "0         0.022650    9.0          12         6\n",
      "1         0.030208   10.0          16         7\n",
      "2         0.023056    9.0          13         8\n",
      "3         0.016784   10.0          13         9\n",
      "4         0.029462   10.0          21        10\n",
      "5         0.018182    9.0          12        11\n",
      "6         0.024538   10.0          15        12\n",
      "7         0.023054   10.0          13        13\n",
      "8         0.020974    9.0          11        14\n"
     ]
    },
    {
     "data": {
      "text/html": [
       "<div>\n",
       "<style scoped>\n",
       "    .dataframe tbody tr th:only-of-type {\n",
       "        vertical-align: middle;\n",
       "    }\n",
       "\n",
       "    .dataframe tbody tr th {\n",
       "        vertical-align: top;\n",
       "    }\n",
       "\n",
       "    .dataframe thead th {\n",
       "        text-align: right;\n",
       "    }\n",
       "</style>\n",
       "<table border=\"1\" class=\"dataframe\">\n",
       "  <thead>\n",
       "    <tr style=\"text-align: right;\">\n",
       "      <th></th>\n",
       "      <th>wall clock time</th>\n",
       "      <th>score</th>\n",
       "      <th>iterations</th>\n",
       "      <th>pop size</th>\n",
       "    </tr>\n",
       "  </thead>\n",
       "  <tbody>\n",
       "    <tr>\n",
       "      <th>count</th>\n",
       "      <td>9.000000</td>\n",
       "      <td>9.000000</td>\n",
       "      <td>9.000000</td>\n",
       "      <td>9.000000</td>\n",
       "    </tr>\n",
       "    <tr>\n",
       "      <th>mean</th>\n",
       "      <td>0.023212</td>\n",
       "      <td>9.555556</td>\n",
       "      <td>14.000000</td>\n",
       "      <td>10.000000</td>\n",
       "    </tr>\n",
       "    <tr>\n",
       "      <th>std</th>\n",
       "      <td>0.004497</td>\n",
       "      <td>0.527046</td>\n",
       "      <td>3.041381</td>\n",
       "      <td>2.738613</td>\n",
       "    </tr>\n",
       "    <tr>\n",
       "      <th>min</th>\n",
       "      <td>0.016784</td>\n",
       "      <td>9.000000</td>\n",
       "      <td>11.000000</td>\n",
       "      <td>6.000000</td>\n",
       "    </tr>\n",
       "    <tr>\n",
       "      <th>25%</th>\n",
       "      <td>0.020974</td>\n",
       "      <td>9.000000</td>\n",
       "      <td>12.000000</td>\n",
       "      <td>8.000000</td>\n",
       "    </tr>\n",
       "    <tr>\n",
       "      <th>50%</th>\n",
       "      <td>0.023054</td>\n",
       "      <td>10.000000</td>\n",
       "      <td>13.000000</td>\n",
       "      <td>10.000000</td>\n",
       "    </tr>\n",
       "    <tr>\n",
       "      <th>75%</th>\n",
       "      <td>0.024538</td>\n",
       "      <td>10.000000</td>\n",
       "      <td>15.000000</td>\n",
       "      <td>12.000000</td>\n",
       "    </tr>\n",
       "    <tr>\n",
       "      <th>max</th>\n",
       "      <td>0.030208</td>\n",
       "      <td>10.000000</td>\n",
       "      <td>21.000000</td>\n",
       "      <td>14.000000</td>\n",
       "    </tr>\n",
       "  </tbody>\n",
       "</table>\n",
       "</div>"
      ],
      "text/plain": [
       "       wall clock time      score  iterations   pop size\n",
       "count         9.000000   9.000000    9.000000   9.000000\n",
       "mean          0.023212   9.555556   14.000000  10.000000\n",
       "std           0.004497   0.527046    3.041381   2.738613\n",
       "min           0.016784   9.000000   11.000000   6.000000\n",
       "25%           0.020974   9.000000   12.000000   8.000000\n",
       "50%           0.023054  10.000000   13.000000  10.000000\n",
       "75%           0.024538  10.000000   15.000000  12.000000\n",
       "max           0.030208  10.000000   21.000000  14.000000"
      ]
     },
     "execution_count": 34,
     "metadata": {},
     "output_type": "execute_result"
    }
   ],
   "source": [
    "# GA\n",
    "times = []\n",
    "scores = []\n",
    "iterations = []\n",
    "population_size =[]\n",
    "population = 5\n",
    "\n",
    "for x in range(0,9):\n",
    "    population = population + 1\n",
    "    \n",
    "    start = time.time()\n",
    "    best_state, best_fitness, fitness_curve = mlrose.genetic_alg(problem, pop_size=population, random_state = 2, curve=True)\n",
    "    end = time.time()\n",
    "    \n",
    "    times.append(end-start)\n",
    "    scores.append(best_fitness)\n",
    "    iterations.append(fitness_curve.size)\n",
    "    population_size.append(population)\n",
    "\n",
    "df = pd.DataFrame()\n",
    "df['wall clock time']=times\n",
    "df['score']=scores\n",
    "df['iterations']=iterations\n",
    "df['pop size'] =population_size\n",
    "print(df)\n",
    "df.describe()"
   ]
  },
  {
   "cell_type": "code",
   "execution_count": 35,
   "id": "1b612f02",
   "metadata": {},
   "outputs": [
    {
     "name": "stdout",
     "output_type": "stream",
     "text": [
      "   wall clock time  score  iterations  num of restarts\n",
      "0         0.002498    8.0          33                2\n",
      "1         0.003900   10.0          54                3\n",
      "2         0.004390    9.0          63                4\n",
      "3         0.006529   10.0          92                5\n",
      "4         0.005453    9.0          84                6\n",
      "5         0.006899    9.0          98                7\n",
      "6         0.008510   10.0         126                8\n",
      "7         0.009766   10.0         118                9\n",
      "8         0.009646   10.0         139               10\n"
     ]
    },
    {
     "data": {
      "text/html": [
       "<div>\n",
       "<style scoped>\n",
       "    .dataframe tbody tr th:only-of-type {\n",
       "        vertical-align: middle;\n",
       "    }\n",
       "\n",
       "    .dataframe tbody tr th {\n",
       "        vertical-align: top;\n",
       "    }\n",
       "\n",
       "    .dataframe thead th {\n",
       "        text-align: right;\n",
       "    }\n",
       "</style>\n",
       "<table border=\"1\" class=\"dataframe\">\n",
       "  <thead>\n",
       "    <tr style=\"text-align: right;\">\n",
       "      <th></th>\n",
       "      <th>wall clock time</th>\n",
       "      <th>score</th>\n",
       "      <th>iterations</th>\n",
       "      <th>num of restarts</th>\n",
       "    </tr>\n",
       "  </thead>\n",
       "  <tbody>\n",
       "    <tr>\n",
       "      <th>count</th>\n",
       "      <td>9.000000</td>\n",
       "      <td>9.000000</td>\n",
       "      <td>9.000000</td>\n",
       "      <td>9.000000</td>\n",
       "    </tr>\n",
       "    <tr>\n",
       "      <th>mean</th>\n",
       "      <td>0.006399</td>\n",
       "      <td>9.444444</td>\n",
       "      <td>89.666667</td>\n",
       "      <td>6.000000</td>\n",
       "    </tr>\n",
       "    <tr>\n",
       "      <th>std</th>\n",
       "      <td>0.002574</td>\n",
       "      <td>0.726483</td>\n",
       "      <td>35.103419</td>\n",
       "      <td>2.738613</td>\n",
       "    </tr>\n",
       "    <tr>\n",
       "      <th>min</th>\n",
       "      <td>0.002498</td>\n",
       "      <td>8.000000</td>\n",
       "      <td>33.000000</td>\n",
       "      <td>2.000000</td>\n",
       "    </tr>\n",
       "    <tr>\n",
       "      <th>25%</th>\n",
       "      <td>0.004390</td>\n",
       "      <td>9.000000</td>\n",
       "      <td>63.000000</td>\n",
       "      <td>4.000000</td>\n",
       "    </tr>\n",
       "    <tr>\n",
       "      <th>50%</th>\n",
       "      <td>0.006529</td>\n",
       "      <td>10.000000</td>\n",
       "      <td>92.000000</td>\n",
       "      <td>6.000000</td>\n",
       "    </tr>\n",
       "    <tr>\n",
       "      <th>75%</th>\n",
       "      <td>0.008510</td>\n",
       "      <td>10.000000</td>\n",
       "      <td>118.000000</td>\n",
       "      <td>8.000000</td>\n",
       "    </tr>\n",
       "    <tr>\n",
       "      <th>max</th>\n",
       "      <td>0.009766</td>\n",
       "      <td>10.000000</td>\n",
       "      <td>139.000000</td>\n",
       "      <td>10.000000</td>\n",
       "    </tr>\n",
       "  </tbody>\n",
       "</table>\n",
       "</div>"
      ],
      "text/plain": [
       "       wall clock time      score  iterations  num of restarts\n",
       "count         9.000000   9.000000    9.000000         9.000000\n",
       "mean          0.006399   9.444444   89.666667         6.000000\n",
       "std           0.002574   0.726483   35.103419         2.738613\n",
       "min           0.002498   8.000000   33.000000         2.000000\n",
       "25%           0.004390   9.000000   63.000000         4.000000\n",
       "50%           0.006529  10.000000   92.000000         6.000000\n",
       "75%           0.008510  10.000000  118.000000         8.000000\n",
       "max           0.009766  10.000000  139.000000        10.000000"
      ]
     },
     "execution_count": 35,
     "metadata": {},
     "output_type": "execute_result"
    }
   ],
   "source": [
    "# RHC\n",
    "times = []\n",
    "scores = []\n",
    "iterations = []\n",
    "num_of_restarts =[]\n",
    "restart = 1\n",
    "for x in range(0,9):\n",
    "    restart = restart + 1\n",
    "    \n",
    "    start = time.time()\n",
    "    best_state, best_fitness, fitness_curve = mlrose.random_hill_climb(problem, restarts = restart, curve = True)\n",
    "    end = time.time()\n",
    "    \n",
    "    times.append(end-start)\n",
    "    scores.append(best_fitness)\n",
    "    iterations.append(fitness_curve.size)\n",
    "    num_of_restarts.append(restart)\n",
    "    \n",
    "    \n",
    "df = pd.DataFrame()\n",
    "df['wall clock time']=times\n",
    "df['score']=scores\n",
    "df['iterations']=iterations\n",
    "df['num of restarts'] =num_of_restarts\n",
    "print(df)\n",
    "df.describe()"
   ]
  },
  {
   "cell_type": "code",
   "execution_count": 36,
   "id": "2c9b1ca9",
   "metadata": {},
   "outputs": [
    {
     "name": "stdout",
     "output_type": "stream",
     "text": [
      "   wall clock time  score  iterations  num of attempts\n",
      "0         0.001794    9.0          18                9\n",
      "1         0.001429    9.0          18               10\n",
      "2         0.001683    9.0          21               12\n",
      "3         0.001124    8.0          15               15\n",
      "4         0.002323    9.0          32               19\n",
      "5         0.004368    7.0          59               24\n",
      "6         0.002238    9.0          30               30\n",
      "7         0.003097    9.0          39               37\n",
      "8         0.003999   10.0          54               45\n"
     ]
    },
    {
     "data": {
      "text/html": [
       "<div>\n",
       "<style scoped>\n",
       "    .dataframe tbody tr th:only-of-type {\n",
       "        vertical-align: middle;\n",
       "    }\n",
       "\n",
       "    .dataframe tbody tr th {\n",
       "        vertical-align: top;\n",
       "    }\n",
       "\n",
       "    .dataframe thead th {\n",
       "        text-align: right;\n",
       "    }\n",
       "</style>\n",
       "<table border=\"1\" class=\"dataframe\">\n",
       "  <thead>\n",
       "    <tr style=\"text-align: right;\">\n",
       "      <th></th>\n",
       "      <th>wall clock time</th>\n",
       "      <th>score</th>\n",
       "      <th>iterations</th>\n",
       "      <th>num of attempts</th>\n",
       "    </tr>\n",
       "  </thead>\n",
       "  <tbody>\n",
       "    <tr>\n",
       "      <th>count</th>\n",
       "      <td>9.000000</td>\n",
       "      <td>9.000000</td>\n",
       "      <td>9.000000</td>\n",
       "      <td>9.000000</td>\n",
       "    </tr>\n",
       "    <tr>\n",
       "      <th>mean</th>\n",
       "      <td>0.002450</td>\n",
       "      <td>8.777778</td>\n",
       "      <td>31.777778</td>\n",
       "      <td>22.333333</td>\n",
       "    </tr>\n",
       "    <tr>\n",
       "      <th>std</th>\n",
       "      <td>0.001139</td>\n",
       "      <td>0.833333</td>\n",
       "      <td>16.076207</td>\n",
       "      <td>12.708265</td>\n",
       "    </tr>\n",
       "    <tr>\n",
       "      <th>min</th>\n",
       "      <td>0.001124</td>\n",
       "      <td>7.000000</td>\n",
       "      <td>15.000000</td>\n",
       "      <td>9.000000</td>\n",
       "    </tr>\n",
       "    <tr>\n",
       "      <th>25%</th>\n",
       "      <td>0.001683</td>\n",
       "      <td>9.000000</td>\n",
       "      <td>18.000000</td>\n",
       "      <td>12.000000</td>\n",
       "    </tr>\n",
       "    <tr>\n",
       "      <th>50%</th>\n",
       "      <td>0.002238</td>\n",
       "      <td>9.000000</td>\n",
       "      <td>30.000000</td>\n",
       "      <td>19.000000</td>\n",
       "    </tr>\n",
       "    <tr>\n",
       "      <th>75%</th>\n",
       "      <td>0.003097</td>\n",
       "      <td>9.000000</td>\n",
       "      <td>39.000000</td>\n",
       "      <td>30.000000</td>\n",
       "    </tr>\n",
       "    <tr>\n",
       "      <th>max</th>\n",
       "      <td>0.004368</td>\n",
       "      <td>10.000000</td>\n",
       "      <td>59.000000</td>\n",
       "      <td>45.000000</td>\n",
       "    </tr>\n",
       "  </tbody>\n",
       "</table>\n",
       "</div>"
      ],
      "text/plain": [
       "       wall clock time      score  iterations  num of attempts\n",
       "count         9.000000   9.000000    9.000000         9.000000\n",
       "mean          0.002450   8.777778   31.777778        22.333333\n",
       "std           0.001139   0.833333   16.076207        12.708265\n",
       "min           0.001124   7.000000   15.000000         9.000000\n",
       "25%           0.001683   9.000000   18.000000        12.000000\n",
       "50%           0.002238   9.000000   30.000000        19.000000\n",
       "75%           0.003097   9.000000   39.000000        30.000000\n",
       "max           0.004368  10.000000   59.000000        45.000000"
      ]
     },
     "execution_count": 36,
     "metadata": {},
     "output_type": "execute_result"
    }
   ],
   "source": [
    "# SA\n",
    "times = []\n",
    "scores = []\n",
    "iterations = []\n",
    "num_of_attempts =[]\n",
    "max_attempt = 9\n",
    "\n",
    "for x in range(0,9):\n",
    "    max_attempt = max_attempt + x\n",
    "    \n",
    "    start = time.time()\n",
    "    best_state, best_fitness, fitness_curve = mlrose.simulated_annealing(problem, max_attempts = max_attempt, curve=True)\n",
    "    end = time.time()\n",
    "    \n",
    "    times.append(end-start)\n",
    "    scores.append(best_fitness)\n",
    "    iterations.append(fitness_curve.size)\n",
    "    num_of_attempts.append(max_attempt)\n",
    "    \n",
    "df = pd.DataFrame()\n",
    "df['wall clock time']=times\n",
    "df['score']=scores\n",
    "df['iterations']=iterations\n",
    "df['num of attempts'] =num_of_attempts\n",
    "print(df)\n",
    "df.describe()"
   ]
  },
  {
   "cell_type": "code",
   "execution_count": 37,
   "id": "cff1fedf",
   "metadata": {
    "scrolled": true
   },
   "outputs": [
    {
     "name": "stdout",
     "output_type": "stream",
     "text": [
      "   wall clock time  score  iterations  pop size\n",
      "0         0.158237    9.0          11         5\n",
      "1         0.142487    9.0          11        10\n",
      "2         0.137737    9.0          11        15\n",
      "3         0.152336   10.0          12        20\n",
      "4         0.150112   10.0          11        25\n",
      "5         0.143996   10.0          11        30\n",
      "6         0.160782   10.0          12        35\n",
      "7         0.170143   10.0          12        40\n",
      "8         0.155773   10.0          11        45\n"
     ]
    },
    {
     "data": {
      "text/html": [
       "<div>\n",
       "<style scoped>\n",
       "    .dataframe tbody tr th:only-of-type {\n",
       "        vertical-align: middle;\n",
       "    }\n",
       "\n",
       "    .dataframe tbody tr th {\n",
       "        vertical-align: top;\n",
       "    }\n",
       "\n",
       "    .dataframe thead th {\n",
       "        text-align: right;\n",
       "    }\n",
       "</style>\n",
       "<table border=\"1\" class=\"dataframe\">\n",
       "  <thead>\n",
       "    <tr style=\"text-align: right;\">\n",
       "      <th></th>\n",
       "      <th>wall clock time</th>\n",
       "      <th>score</th>\n",
       "      <th>iterations</th>\n",
       "      <th>pop size</th>\n",
       "    </tr>\n",
       "  </thead>\n",
       "  <tbody>\n",
       "    <tr>\n",
       "      <th>count</th>\n",
       "      <td>9.000000</td>\n",
       "      <td>9.000000</td>\n",
       "      <td>9.000000</td>\n",
       "      <td>9.000000</td>\n",
       "    </tr>\n",
       "    <tr>\n",
       "      <th>mean</th>\n",
       "      <td>0.152400</td>\n",
       "      <td>9.666667</td>\n",
       "      <td>11.333333</td>\n",
       "      <td>25.000000</td>\n",
       "    </tr>\n",
       "    <tr>\n",
       "      <th>std</th>\n",
       "      <td>0.010122</td>\n",
       "      <td>0.500000</td>\n",
       "      <td>0.500000</td>\n",
       "      <td>13.693064</td>\n",
       "    </tr>\n",
       "    <tr>\n",
       "      <th>min</th>\n",
       "      <td>0.137737</td>\n",
       "      <td>9.000000</td>\n",
       "      <td>11.000000</td>\n",
       "      <td>5.000000</td>\n",
       "    </tr>\n",
       "    <tr>\n",
       "      <th>25%</th>\n",
       "      <td>0.143996</td>\n",
       "      <td>9.000000</td>\n",
       "      <td>11.000000</td>\n",
       "      <td>15.000000</td>\n",
       "    </tr>\n",
       "    <tr>\n",
       "      <th>50%</th>\n",
       "      <td>0.152336</td>\n",
       "      <td>10.000000</td>\n",
       "      <td>11.000000</td>\n",
       "      <td>25.000000</td>\n",
       "    </tr>\n",
       "    <tr>\n",
       "      <th>75%</th>\n",
       "      <td>0.158237</td>\n",
       "      <td>10.000000</td>\n",
       "      <td>12.000000</td>\n",
       "      <td>35.000000</td>\n",
       "    </tr>\n",
       "    <tr>\n",
       "      <th>max</th>\n",
       "      <td>0.170143</td>\n",
       "      <td>10.000000</td>\n",
       "      <td>12.000000</td>\n",
       "      <td>45.000000</td>\n",
       "    </tr>\n",
       "  </tbody>\n",
       "</table>\n",
       "</div>"
      ],
      "text/plain": [
       "       wall clock time      score  iterations   pop size\n",
       "count         9.000000   9.000000    9.000000   9.000000\n",
       "mean          0.152400   9.666667   11.333333  25.000000\n",
       "std           0.010122   0.500000    0.500000  13.693064\n",
       "min           0.137737   9.000000   11.000000   5.000000\n",
       "25%           0.143996   9.000000   11.000000  15.000000\n",
       "50%           0.152336  10.000000   11.000000  25.000000\n",
       "75%           0.158237  10.000000   12.000000  35.000000\n",
       "max           0.170143  10.000000   12.000000  45.000000"
      ]
     },
     "execution_count": 37,
     "metadata": {},
     "output_type": "execute_result"
    }
   ],
   "source": [
    "# MIMIC\n",
    "times = []\n",
    "scores = []\n",
    "iterations = []\n",
    "population_size =[]\n",
    "population = 0\n",
    "\n",
    "for x in range(0,9):\n",
    "    population = population + 5\n",
    "    \n",
    "    start = time.time()\n",
    "    best_state, best_fitness, fitness_curve = mlrose.mimic(problem, pop_size=population, random_state = 2, curve=True)\n",
    "    end = time.time()\n",
    "    \n",
    "    times.append(end-start)\n",
    "    scores.append(best_fitness)\n",
    "    iterations.append(fitness_curve.size)\n",
    "    population_size.append(population)\n",
    "\n",
    "df = pd.DataFrame()\n",
    "df['wall clock time']=times\n",
    "df['score']=scores\n",
    "df['iterations']=iterations\n",
    "df['pop size'] =population_size\n",
    "print(df)\n",
    "df.describe()"
   ]
  },
  {
   "cell_type": "code",
   "execution_count": 38,
   "id": "ca7122cd",
   "metadata": {},
   "outputs": [
    {
     "name": "stdout",
     "output_type": "stream",
     "text": [
      "[10, 3, 7, 8, 10, 3, 3, 2, 9, 7, 1, 9, 7, 4, 4, 4, 8, 6, 10, 1, 3, 6, 7, 1, 5, 6, 2, 10, 5, 1, 2, 5, 4, 4, 4, 8, 8, 8, 6, 9, 8, 2, 9, 10, 5, 6, 8, 6, 8, 10, 7, 5, 2, 10, 4, 3, 6, 4, 10, 10]\n",
      "[4, 10, 9, 3, 7, 3, 8, 13, 11, 14, 19, 5, 7, 19, 4, 13, 1, 16, 14, 8, 17, 19, 8, 15, 12, 9, 8, 12, 8, 4, 17, 15, 15, 13, 15, 18, 14, 6, 11, 6, 17, 8, 4, 6, 9, 15, 8, 1, 14, 18, 17, 11, 9, 10, 8, 16, 17, 13, 12, 8]\n"
     ]
    }
   ],
   "source": [
    "## Knapsack n = 60\n",
    "weights = []\n",
    "values = []\n",
    "for i in range(0,60):\n",
    "    weights.append(random.randint(1,20))\n",
    "    values.append(random.randint(1,10))\n",
    "\n",
    "max_weight_pct = 0.6\n",
    "fitness = mlrose.Knapsack(weights, values, max_weight_pct)\n",
    "print(values)\n",
    "print(weights)"
   ]
  },
  {
   "cell_type": "code",
   "execution_count": 393,
   "id": "a87342c6",
   "metadata": {},
   "outputs": [],
   "source": [
    "# Define optimization problem object\n",
    "problem = mlrose.DiscreteOpt(length=len(values), fitness_fn=fitness, maximize=True, max_val=2)"
   ]
  },
  {
   "cell_type": "code",
   "execution_count": 394,
   "id": "acaecb23",
   "metadata": {},
   "outputs": [
    {
     "name": "stdout",
     "output_type": "stream",
     "text": [
      "   wall clock time  score  iterations  pop size\n",
      "0         0.071631  240.0          18        21\n",
      "1         0.061913  237.0          16        22\n",
      "2         0.058578  224.0          14        23\n",
      "3         0.042493  236.0          11        24\n",
      "4         0.048111  232.0          12        25\n",
      "5         0.095366  244.0          21        26\n",
      "6         0.068155  241.0          16        27\n",
      "7         0.066514  233.0          15        28\n",
      "8         0.159517  244.0          34        29\n"
     ]
    },
    {
     "data": {
      "text/html": [
       "<div>\n",
       "<style scoped>\n",
       "    .dataframe tbody tr th:only-of-type {\n",
       "        vertical-align: middle;\n",
       "    }\n",
       "\n",
       "    .dataframe tbody tr th {\n",
       "        vertical-align: top;\n",
       "    }\n",
       "\n",
       "    .dataframe thead th {\n",
       "        text-align: right;\n",
       "    }\n",
       "</style>\n",
       "<table border=\"1\" class=\"dataframe\">\n",
       "  <thead>\n",
       "    <tr style=\"text-align: right;\">\n",
       "      <th></th>\n",
       "      <th>wall clock time</th>\n",
       "      <th>score</th>\n",
       "      <th>iterations</th>\n",
       "      <th>pop size</th>\n",
       "    </tr>\n",
       "  </thead>\n",
       "  <tbody>\n",
       "    <tr>\n",
       "      <th>count</th>\n",
       "      <td>9.000000</td>\n",
       "      <td>9.000000</td>\n",
       "      <td>9.000000</td>\n",
       "      <td>9.000000</td>\n",
       "    </tr>\n",
       "    <tr>\n",
       "      <th>mean</th>\n",
       "      <td>0.074698</td>\n",
       "      <td>236.777778</td>\n",
       "      <td>17.444444</td>\n",
       "      <td>25.000000</td>\n",
       "    </tr>\n",
       "    <tr>\n",
       "      <th>std</th>\n",
       "      <td>0.035192</td>\n",
       "      <td>6.457124</td>\n",
       "      <td>6.894039</td>\n",
       "      <td>2.738613</td>\n",
       "    </tr>\n",
       "    <tr>\n",
       "      <th>min</th>\n",
       "      <td>0.042493</td>\n",
       "      <td>224.000000</td>\n",
       "      <td>11.000000</td>\n",
       "      <td>21.000000</td>\n",
       "    </tr>\n",
       "    <tr>\n",
       "      <th>25%</th>\n",
       "      <td>0.058578</td>\n",
       "      <td>233.000000</td>\n",
       "      <td>14.000000</td>\n",
       "      <td>23.000000</td>\n",
       "    </tr>\n",
       "    <tr>\n",
       "      <th>50%</th>\n",
       "      <td>0.066514</td>\n",
       "      <td>237.000000</td>\n",
       "      <td>16.000000</td>\n",
       "      <td>25.000000</td>\n",
       "    </tr>\n",
       "    <tr>\n",
       "      <th>75%</th>\n",
       "      <td>0.071631</td>\n",
       "      <td>241.000000</td>\n",
       "      <td>18.000000</td>\n",
       "      <td>27.000000</td>\n",
       "    </tr>\n",
       "    <tr>\n",
       "      <th>max</th>\n",
       "      <td>0.159517</td>\n",
       "      <td>244.000000</td>\n",
       "      <td>34.000000</td>\n",
       "      <td>29.000000</td>\n",
       "    </tr>\n",
       "  </tbody>\n",
       "</table>\n",
       "</div>"
      ],
      "text/plain": [
       "       wall clock time       score  iterations   pop size\n",
       "count         9.000000    9.000000    9.000000   9.000000\n",
       "mean          0.074698  236.777778   17.444444  25.000000\n",
       "std           0.035192    6.457124    6.894039   2.738613\n",
       "min           0.042493  224.000000   11.000000  21.000000\n",
       "25%           0.058578  233.000000   14.000000  23.000000\n",
       "50%           0.066514  237.000000   16.000000  25.000000\n",
       "75%           0.071631  241.000000   18.000000  27.000000\n",
       "max           0.159517  244.000000   34.000000  29.000000"
      ]
     },
     "execution_count": 394,
     "metadata": {},
     "output_type": "execute_result"
    },
    {
     "data": {
      "image/png": "[encoded data removed]",
      "text/plain": [
       "<Figure size 432x288 with 1 Axes>"
      ]
     },
     "metadata": {
      "needs_background": "light"
     },
     "output_type": "display_data"
    }
   ],
   "source": [
    "# GA\n",
    "times = []\n",
    "scores = []\n",
    "iterations = []\n",
    "population_size =[]\n",
    "population = 20\n",
    "\n",
    "for x in range(0,9):\n",
    "    population = population + 1\n",
    "    \n",
    "    start = time.time()\n",
    "    best_state, best_fitness, fitness_curve = mlrose.genetic_alg(problem, pop_size=population, random_state = 2, curve=True)\n",
    "    end = time.time()\n",
    "    \n",
    "    times.append(end-start)\n",
    "    scores.append(best_fitness)\n",
    "    iterations.append(fitness_curve.size)\n",
    "    population_size.append(population)\n",
    "\n",
    "df = pd.DataFrame()\n",
    "df['wall clock time']=times\n",
    "df['score']=scores\n",
    "df['iterations']=iterations\n",
    "df['pop size'] =population_size\n",
    "print(df)\n",
    "\n",
    "x=population_size\n",
    "y=scores\n",
    "plt.plot(x,y)\n",
    "plt.title(\"GA for Knapsack Problem, n = 60\")\n",
    "plt.xlabel(\"population\")\n",
    "plt.ylabel(\"fitness score\")\n",
    "\n",
    "df.describe()"
   ]
  },
  {
   "cell_type": "code",
   "execution_count": 395,
   "id": "609f18b3",
   "metadata": {},
   "outputs": [
    {
     "data": {
      "text/plain": [
       "Text(0.5, 1.0, 'Fitness Convergence for Knapsack using GA, n = 60')"
      ]
     },
     "execution_count": 395,
     "metadata": {},
     "output_type": "execute_result"
    },
    {
     "data": {
      "image/png": "[encoded data removed]",
      "text/plain": [
       "<Figure size 432x288 with 1 Axes>"
      ]
     },
     "metadata": {
      "needs_background": "light"
     },
     "output_type": "display_data"
    }
   ],
   "source": [
    "plt.plot(fitness_curve)\n",
    "plt.xlabel('iterations')\n",
    "plt.ylabel('fitness')\n",
    "plt.title('Fitness Convergence for Knapsack using GA, n = 60')"
   ]
  },
  {
   "cell_type": "code",
   "execution_count": 396,
   "id": "f5fb748f",
   "metadata": {},
   "outputs": [
    {
     "name": "stdout",
     "output_type": "stream",
     "text": [
      "   wall clock time  score  iterations  num of restarts\n",
      "0         0.023020  243.0         269               10\n",
      "1         0.058746  248.0         503               20\n",
      "2         0.067350  239.0         720               30\n",
      "3         0.080740  243.0        1009               40\n",
      "4         0.093331  239.0        1175               50\n",
      "5         0.129940  246.0        1614               60\n",
      "6         0.146358  247.0        1826               70\n",
      "7         0.155042  251.0        1939               80\n",
      "8         0.180281  252.0        2137               90\n"
     ]
    },
    {
     "data": {
      "text/html": [
       "<div>\n",
       "<style scoped>\n",
       "    .dataframe tbody tr th:only-of-type {\n",
       "        vertical-align: middle;\n",
       "    }\n",
       "\n",
       "    .dataframe tbody tr th {\n",
       "        vertical-align: top;\n",
       "    }\n",
       "\n",
       "    .dataframe thead th {\n",
       "        text-align: right;\n",
       "    }\n",
       "</style>\n",
       "<table border=\"1\" class=\"dataframe\">\n",
       "  <thead>\n",
       "    <tr style=\"text-align: right;\">\n",
       "      <th></th>\n",
       "      <th>wall clock time</th>\n",
       "      <th>score</th>\n",
       "      <th>iterations</th>\n",
       "      <th>num of restarts</th>\n",
       "    </tr>\n",
       "  </thead>\n",
       "  <tbody>\n",
       "    <tr>\n",
       "      <th>count</th>\n",
       "      <td>9.000000</td>\n",
       "      <td>9.000000</td>\n",
       "      <td>9.000000</td>\n",
       "      <td>9.000000</td>\n",
       "    </tr>\n",
       "    <tr>\n",
       "      <th>mean</th>\n",
       "      <td>0.103867</td>\n",
       "      <td>245.333333</td>\n",
       "      <td>1243.555556</td>\n",
       "      <td>50.000000</td>\n",
       "    </tr>\n",
       "    <tr>\n",
       "      <th>std</th>\n",
       "      <td>0.051835</td>\n",
       "      <td>4.716991</td>\n",
       "      <td>669.922031</td>\n",
       "      <td>27.386128</td>\n",
       "    </tr>\n",
       "    <tr>\n",
       "      <th>min</th>\n",
       "      <td>0.023020</td>\n",
       "      <td>239.000000</td>\n",
       "      <td>269.000000</td>\n",
       "      <td>10.000000</td>\n",
       "    </tr>\n",
       "    <tr>\n",
       "      <th>25%</th>\n",
       "      <td>0.067350</td>\n",
       "      <td>243.000000</td>\n",
       "      <td>720.000000</td>\n",
       "      <td>30.000000</td>\n",
       "    </tr>\n",
       "    <tr>\n",
       "      <th>50%</th>\n",
       "      <td>0.093331</td>\n",
       "      <td>246.000000</td>\n",
       "      <td>1175.000000</td>\n",
       "      <td>50.000000</td>\n",
       "    </tr>\n",
       "    <tr>\n",
       "      <th>75%</th>\n",
       "      <td>0.146358</td>\n",
       "      <td>248.000000</td>\n",
       "      <td>1826.000000</td>\n",
       "      <td>70.000000</td>\n",
       "    </tr>\n",
       "    <tr>\n",
       "      <th>max</th>\n",
       "      <td>0.180281</td>\n",
       "      <td>252.000000</td>\n",
       "      <td>2137.000000</td>\n",
       "      <td>90.000000</td>\n",
       "    </tr>\n",
       "  </tbody>\n",
       "</table>\n",
       "</div>"
      ],
      "text/plain": [
       "       wall clock time       score   iterations  num of restarts\n",
       "count         9.000000    9.000000     9.000000         9.000000\n",
       "mean          0.103867  245.333333  1243.555556        50.000000\n",
       "std           0.051835    4.716991   669.922031        27.386128\n",
       "min           0.023020  239.000000   269.000000        10.000000\n",
       "25%           0.067350  243.000000   720.000000        30.000000\n",
       "50%           0.093331  246.000000  1175.000000        50.000000\n",
       "75%           0.146358  248.000000  1826.000000        70.000000\n",
       "max           0.180281  252.000000  2137.000000        90.000000"
      ]
     },
     "execution_count": 396,
     "metadata": {},
     "output_type": "execute_result"
    },
    {
     "data": {
      "image/png": "[encoded data removed]",
      "text/plain": [
       "<Figure size 432x288 with 1 Axes>"
      ]
     },
     "metadata": {
      "needs_background": "light"
     },
     "output_type": "display_data"
    }
   ],
   "source": [
    "# RHC\n",
    "times = []\n",
    "scores = []\n",
    "iterations = []\n",
    "num_of_restarts =[]\n",
    "restart = 0\n",
    "for x in range(0,9):\n",
    "    restart = restart + 10\n",
    "    \n",
    "    start = time.time()\n",
    "    best_state, best_fitness, fitness_curve = mlrose.random_hill_climb(problem, restarts = restart, curve = True)\n",
    "    end = time.time()\n",
    "    \n",
    "    times.append(end-start)\n",
    "    scores.append(best_fitness)\n",
    "    iterations.append(fitness_curve.size)\n",
    "    num_of_restarts.append(restart)\n",
    "    \n",
    "    \n",
    "df = pd.DataFrame()\n",
    "df['wall clock time']=times\n",
    "df['score']=scores\n",
    "df['iterations']=iterations\n",
    "df['num of restarts'] =num_of_restarts\n",
    "print(df)\n",
    "\n",
    "x=num_of_restarts\n",
    "y=scores\n",
    "plt.plot(x,y)\n",
    "plt.title(\"RHC for Knapsack Problem, n = 60\")\n",
    "plt.xlabel(\"# restarts\")\n",
    "plt.ylabel(\"fitness score\")\n",
    "\n",
    "df.describe()"
   ]
  },
  {
   "cell_type": "code",
   "execution_count": 397,
   "id": "62dadd9d",
   "metadata": {},
   "outputs": [
    {
     "data": {
      "text/plain": [
       "Text(0.5, 1.0, 'Fitness Convergence for Knapsack using RHC, n = 60')"
      ]
     },
     "execution_count": 397,
     "metadata": {},
     "output_type": "execute_result"
    },
    {
     "data": {
      "image/png": "[encoded data removed]",
      "text/plain": [
       "<Figure size 432x288 with 1 Axes>"
      ]
     },
     "metadata": {
      "needs_background": "light"
     },
     "output_type": "display_data"
    }
   ],
   "source": [
    "plt.plot(fitness_curve)\n",
    "plt.xlabel('iterations')\n",
    "plt.ylabel('fitness')\n",
    "plt.title('Fitness Convergence for Knapsack using RHC, n = 60')"
   ]
  },
  {
   "cell_type": "code",
   "execution_count": 398,
   "id": "b73cef82",
   "metadata": {
    "scrolled": true
   },
   "outputs": [
    {
     "name": "stdout",
     "output_type": "stream",
     "text": [
      "   wall clock time  score  iterations  num of attempts\n",
      "0         0.007047  202.0          40                9\n",
      "1         0.004541  209.0          27               10\n",
      "2         0.006579  194.0          40               12\n",
      "3         0.006319  206.0          44               15\n",
      "4         0.005588  208.0          38               19\n",
      "5         0.010580  233.0          67               24\n",
      "6         0.013120  230.0          86               30\n",
      "7         0.006775  248.0          76               37\n",
      "8         0.005818  211.0          72               45\n"
     ]
    },
    {
     "data": {
      "text/html": [
       "<div>\n",
       "<style scoped>\n",
       "    .dataframe tbody tr th:only-of-type {\n",
       "        vertical-align: middle;\n",
       "    }\n",
       "\n",
       "    .dataframe tbody tr th {\n",
       "        vertical-align: top;\n",
       "    }\n",
       "\n",
       "    .dataframe thead th {\n",
       "        text-align: right;\n",
       "    }\n",
       "</style>\n",
       "<table border=\"1\" class=\"dataframe\">\n",
       "  <thead>\n",
       "    <tr style=\"text-align: right;\">\n",
       "      <th></th>\n",
       "      <th>wall clock time</th>\n",
       "      <th>score</th>\n",
       "      <th>iterations</th>\n",
       "      <th>num of attempts</th>\n",
       "    </tr>\n",
       "  </thead>\n",
       "  <tbody>\n",
       "    <tr>\n",
       "      <th>count</th>\n",
       "      <td>9.000000</td>\n",
       "      <td>9.000000</td>\n",
       "      <td>9.000000</td>\n",
       "      <td>9.000000</td>\n",
       "    </tr>\n",
       "    <tr>\n",
       "      <th>mean</th>\n",
       "      <td>0.007374</td>\n",
       "      <td>215.666667</td>\n",
       "      <td>54.444444</td>\n",
       "      <td>22.333333</td>\n",
       "    </tr>\n",
       "    <tr>\n",
       "      <th>std</th>\n",
       "      <td>0.002719</td>\n",
       "      <td>17.414075</td>\n",
       "      <td>20.845330</td>\n",
       "      <td>12.708265</td>\n",
       "    </tr>\n",
       "    <tr>\n",
       "      <th>min</th>\n",
       "      <td>0.004541</td>\n",
       "      <td>194.000000</td>\n",
       "      <td>27.000000</td>\n",
       "      <td>9.000000</td>\n",
       "    </tr>\n",
       "    <tr>\n",
       "      <th>25%</th>\n",
       "      <td>0.005818</td>\n",
       "      <td>206.000000</td>\n",
       "      <td>40.000000</td>\n",
       "      <td>12.000000</td>\n",
       "    </tr>\n",
       "    <tr>\n",
       "      <th>50%</th>\n",
       "      <td>0.006579</td>\n",
       "      <td>209.000000</td>\n",
       "      <td>44.000000</td>\n",
       "      <td>19.000000</td>\n",
       "    </tr>\n",
       "    <tr>\n",
       "      <th>75%</th>\n",
       "      <td>0.007047</td>\n",
       "      <td>230.000000</td>\n",
       "      <td>72.000000</td>\n",
       "      <td>30.000000</td>\n",
       "    </tr>\n",
       "    <tr>\n",
       "      <th>max</th>\n",
       "      <td>0.013120</td>\n",
       "      <td>248.000000</td>\n",
       "      <td>86.000000</td>\n",
       "      <td>45.000000</td>\n",
       "    </tr>\n",
       "  </tbody>\n",
       "</table>\n",
       "</div>"
      ],
      "text/plain": [
       "       wall clock time       score  iterations  num of attempts\n",
       "count         9.000000    9.000000    9.000000         9.000000\n",
       "mean          0.007374  215.666667   54.444444        22.333333\n",
       "std           0.002719   17.414075   20.845330        12.708265\n",
       "min           0.004541  194.000000   27.000000         9.000000\n",
       "25%           0.005818  206.000000   40.000000        12.000000\n",
       "50%           0.006579  209.000000   44.000000        19.000000\n",
       "75%           0.007047  230.000000   72.000000        30.000000\n",
       "max           0.013120  248.000000   86.000000        45.000000"
      ]
     },
     "execution_count": 398,
     "metadata": {},
     "output_type": "execute_result"
    },
    {
     "data": {
      "image/png": "[encoded data removed]",
      "text/plain": [
       "<Figure size 432x288 with 1 Axes>"
      ]
     },
     "metadata": {
      "needs_background": "light"
     },
     "output_type": "display_data"
    }
   ],
   "source": [
    "# SA\n",
    "times = []\n",
    "scores = []\n",
    "iterations = []\n",
    "num_of_attempts =[]\n",
    "max_attempt = 9\n",
    "\n",
    "for x in range(0,9):\n",
    "    max_attempt = max_attempt + x\n",
    "    \n",
    "    start = time.time()\n",
    "    best_state, best_fitness, fitness_curve = mlrose.simulated_annealing(problem, max_attempts = max_attempt, curve=True)\n",
    "    end = time.time()\n",
    "    \n",
    "    times.append(end-start)\n",
    "    scores.append(best_fitness)\n",
    "    iterations.append(fitness_curve.size)\n",
    "    num_of_attempts.append(max_attempt)\n",
    "    \n",
    "df = pd.DataFrame()\n",
    "df['wall clock time']=times\n",
    "df['score']=scores\n",
    "df['iterations']=iterations\n",
    "df['num of attempts'] =num_of_attempts\n",
    "print(df)\n",
    "\n",
    "x=num_of_attempts\n",
    "y=scores\n",
    "plt.plot(x,y)\n",
    "plt.title(\"SA for Knapsack Problem, n = 60\")\n",
    "plt.xlabel(\"# max attempts\")\n",
    "plt.ylabel(\"fitness score\")\n",
    "\n",
    "df.describe()"
   ]
  },
  {
   "cell_type": "code",
   "execution_count": 399,
   "id": "7eeb257b",
   "metadata": {},
   "outputs": [
    {
     "data": {
      "text/plain": [
       "Text(0.5, 1.0, 'Fitness Convergence for Knapsack using SA, n = 60')"
      ]
     },
     "execution_count": 399,
     "metadata": {},
     "output_type": "execute_result"
    },
    {
     "data": {
      "image/png": "[encoded data removed]",
      "text/plain": [
       "<Figure size 432x288 with 1 Axes>"
      ]
     },
     "metadata": {
      "needs_background": "light"
     },
     "output_type": "display_data"
    }
   ],
   "source": [
    "plt.plot(fitness_curve)\n",
    "plt.xlabel('iterations')\n",
    "plt.ylabel('fitness')\n",
    "plt.title('Fitness Convergence for Knapsack using SA, n = 60')"
   ]
  },
  {
   "cell_type": "code",
   "execution_count": 400,
   "id": "4b26bb9d",
   "metadata": {},
   "outputs": [
    {
     "name": "stdout",
     "output_type": "stream",
     "text": [
      "   wall clock time  score  iterations  pop size\n",
      "0        44.163928  281.0          24        45\n",
      "1        37.444219  267.0          20        50\n",
      "2        34.180496  279.0          19        55\n",
      "3        27.527965  256.0          15        60\n",
      "4        50.314929  286.0          27        65\n",
      "5        35.871571  287.0          19        70\n",
      "6        41.910347  284.0          22        75\n",
      "7        41.491978  288.0          22        80\n",
      "8        35.672909  280.0          19        85\n"
     ]
    },
    {
     "data": {
      "text/html": [
       "<div>\n",
       "<style scoped>\n",
       "    .dataframe tbody tr th:only-of-type {\n",
       "        vertical-align: middle;\n",
       "    }\n",
       "\n",
       "    .dataframe tbody tr th {\n",
       "        vertical-align: top;\n",
       "    }\n",
       "\n",
       "    .dataframe thead th {\n",
       "        text-align: right;\n",
       "    }\n",
       "</style>\n",
       "<table border=\"1\" class=\"dataframe\">\n",
       "  <thead>\n",
       "    <tr style=\"text-align: right;\">\n",
       "      <th></th>\n",
       "      <th>wall clock time</th>\n",
       "      <th>score</th>\n",
       "      <th>iterations</th>\n",
       "      <th>pop size</th>\n",
       "    </tr>\n",
       "  </thead>\n",
       "  <tbody>\n",
       "    <tr>\n",
       "      <th>count</th>\n",
       "      <td>9.000000</td>\n",
       "      <td>9.000000</td>\n",
       "      <td>9.000000</td>\n",
       "      <td>9.000000</td>\n",
       "    </tr>\n",
       "    <tr>\n",
       "      <th>mean</th>\n",
       "      <td>38.730927</td>\n",
       "      <td>278.666667</td>\n",
       "      <td>20.777778</td>\n",
       "      <td>65.000000</td>\n",
       "    </tr>\n",
       "    <tr>\n",
       "      <th>std</th>\n",
       "      <td>6.584399</td>\n",
       "      <td>10.583005</td>\n",
       "      <td>3.456074</td>\n",
       "      <td>13.693064</td>\n",
       "    </tr>\n",
       "    <tr>\n",
       "      <th>min</th>\n",
       "      <td>27.527965</td>\n",
       "      <td>256.000000</td>\n",
       "      <td>15.000000</td>\n",
       "      <td>45.000000</td>\n",
       "    </tr>\n",
       "    <tr>\n",
       "      <th>25%</th>\n",
       "      <td>35.672909</td>\n",
       "      <td>279.000000</td>\n",
       "      <td>19.000000</td>\n",
       "      <td>55.000000</td>\n",
       "    </tr>\n",
       "    <tr>\n",
       "      <th>50%</th>\n",
       "      <td>37.444219</td>\n",
       "      <td>281.000000</td>\n",
       "      <td>20.000000</td>\n",
       "      <td>65.000000</td>\n",
       "    </tr>\n",
       "    <tr>\n",
       "      <th>75%</th>\n",
       "      <td>41.910347</td>\n",
       "      <td>286.000000</td>\n",
       "      <td>22.000000</td>\n",
       "      <td>75.000000</td>\n",
       "    </tr>\n",
       "    <tr>\n",
       "      <th>max</th>\n",
       "      <td>50.314929</td>\n",
       "      <td>288.000000</td>\n",
       "      <td>27.000000</td>\n",
       "      <td>85.000000</td>\n",
       "    </tr>\n",
       "  </tbody>\n",
       "</table>\n",
       "</div>"
      ],
      "text/plain": [
       "       wall clock time       score  iterations   pop size\n",
       "count         9.000000    9.000000    9.000000   9.000000\n",
       "mean         38.730927  278.666667   20.777778  65.000000\n",
       "std           6.584399   10.583005    3.456074  13.693064\n",
       "min          27.527965  256.000000   15.000000  45.000000\n",
       "25%          35.672909  279.000000   19.000000  55.000000\n",
       "50%          37.444219  281.000000   20.000000  65.000000\n",
       "75%          41.910347  286.000000   22.000000  75.000000\n",
       "max          50.314929  288.000000   27.000000  85.000000"
      ]
     },
     "execution_count": 400,
     "metadata": {},
     "output_type": "execute_result"
    },
    {
     "data": {
      "image/png": "[encoded data removed]",
      "text/plain": [
       "<Figure size 432x288 with 1 Axes>"
      ]
     },
     "metadata": {
      "needs_background": "light"
     },
     "output_type": "display_data"
    }
   ],
   "source": [
    "# MIMIC\n",
    "times = []\n",
    "scores = []\n",
    "iterations = []\n",
    "population_size =[]\n",
    "population = 40\n",
    "\n",
    "for x in range(0,9):\n",
    "    population = population + 5\n",
    "    \n",
    "    start = time.time()\n",
    "    best_state, best_fitness, fitness_curve = mlrose.mimic(problem, pop_size=population, random_state = 2, curve=True)\n",
    "    end = time.time()\n",
    "    \n",
    "    times.append(end-start)\n",
    "    scores.append(best_fitness)\n",
    "    iterations.append(fitness_curve.size)\n",
    "    population_size.append(population)\n",
    "\n",
    "df = pd.DataFrame()\n",
    "df['wall clock time']=times\n",
    "df['score']=scores\n",
    "df['iterations']=iterations\n",
    "df['pop size'] =population_size\n",
    "print(df)\n",
    "\n",
    "x=population_size\n",
    "y=scores\n",
    "plt.plot(x,y)\n",
    "plt.title(\"MIMIC for Knapsack Problem, n = 60\")\n",
    "plt.xlabel(\"population\")\n",
    "plt.ylabel(\"fitness score\")\n",
    "\n",
    "df.describe()"
   ]
  },
  {
   "cell_type": "code",
   "execution_count": 401,
   "id": "c24ad12e",
   "metadata": {},
   "outputs": [
    {
     "data": {
      "text/plain": [
       "Text(0.5, 1.0, 'Fitness Convergence for Knapsack using MIMIC, n = 60')"
      ]
     },
     "execution_count": 401,
     "metadata": {},
     "output_type": "execute_result"
    },
    {
     "data": {
      "image/png": "[encoded data removed]",
      "text/plain": [
       "<Figure size 432x288 with 1 Axes>"
      ]
     },
     "metadata": {
      "needs_background": "light"
     },
     "output_type": "display_data"
    }
   ],
   "source": [
    "plt.plot(fitness_curve)\n",
    "plt.xlabel('iterations')\n",
    "plt.ylabel('fitness')\n",
    "plt.title('Fitness Convergence for Knapsack using MIMIC, n = 60')"
   ]
  },
  {
   "cell_type": "code",
   "execution_count": 44,
   "id": "09b6b779",
   "metadata": {},
   "outputs": [],
   "source": [
    "############## End Knapsack problem ##############"
   ]
  },
  {
   "cell_type": "code",
   "execution_count": 45,
   "id": "420af3a2",
   "metadata": {},
   "outputs": [],
   "source": [
    "############## Begin Continuous Peaks problem ##############"
   ]
  },
  {
   "cell_type": "code",
   "execution_count": 46,
   "id": "921d3a13",
   "metadata": {},
   "outputs": [],
   "source": [
    "#small CPP problem\n",
    "fitness = mlrose.ContinuousPeaks(t_pct=0.15)"
   ]
  },
  {
   "cell_type": "code",
   "execution_count": 47,
   "id": "1ec46a21",
   "metadata": {},
   "outputs": [],
   "source": [
    "# Define optimization problem object\n",
    "CPPproblem = mlrose.DiscreteOpt(length=5, fitness_fn=fitness, maximize=True, max_val=2)"
   ]
  },
  {
   "cell_type": "code",
   "execution_count": 53,
   "id": "5583ab7f",
   "metadata": {
    "scrolled": true
   },
   "outputs": [
    {
     "name": "stdout",
     "output_type": "stream",
     "text": [
      "   wall clock time  score  iterations  pop size\n",
      "0         0.005857    7.0          10         1\n",
      "1         0.004052    7.0          10         2\n",
      "2         0.005999    8.0          11         3\n",
      "3         0.007009    8.0          13         4\n",
      "4         0.006971    8.0          11         5\n",
      "5         0.009331    8.0          11         6\n",
      "6         0.009590    8.0          11         7\n",
      "7         0.012157    8.0          11         8\n",
      "8         0.013261    8.0          11         9\n"
     ]
    },
    {
     "data": {
      "text/html": [
       "<div>\n",
       "<style scoped>\n",
       "    .dataframe tbody tr th:only-of-type {\n",
       "        vertical-align: middle;\n",
       "    }\n",
       "\n",
       "    .dataframe tbody tr th {\n",
       "        vertical-align: top;\n",
       "    }\n",
       "\n",
       "    .dataframe thead th {\n",
       "        text-align: right;\n",
       "    }\n",
       "</style>\n",
       "<table border=\"1\" class=\"dataframe\">\n",
       "  <thead>\n",
       "    <tr style=\"text-align: right;\">\n",
       "      <th></th>\n",
       "      <th>wall clock time</th>\n",
       "      <th>score</th>\n",
       "      <th>iterations</th>\n",
       "      <th>pop size</th>\n",
       "    </tr>\n",
       "  </thead>\n",
       "  <tbody>\n",
       "    <tr>\n",
       "      <th>count</th>\n",
       "      <td>9.000000</td>\n",
       "      <td>9.000000</td>\n",
       "      <td>9.000000</td>\n",
       "      <td>9.000000</td>\n",
       "    </tr>\n",
       "    <tr>\n",
       "      <th>mean</th>\n",
       "      <td>0.008247</td>\n",
       "      <td>7.777778</td>\n",
       "      <td>11.000000</td>\n",
       "      <td>5.000000</td>\n",
       "    </tr>\n",
       "    <tr>\n",
       "      <th>std</th>\n",
       "      <td>0.003060</td>\n",
       "      <td>0.440959</td>\n",
       "      <td>0.866025</td>\n",
       "      <td>2.738613</td>\n",
       "    </tr>\n",
       "    <tr>\n",
       "      <th>min</th>\n",
       "      <td>0.004052</td>\n",
       "      <td>7.000000</td>\n",
       "      <td>10.000000</td>\n",
       "      <td>1.000000</td>\n",
       "    </tr>\n",
       "    <tr>\n",
       "      <th>25%</th>\n",
       "      <td>0.005999</td>\n",
       "      <td>8.000000</td>\n",
       "      <td>11.000000</td>\n",
       "      <td>3.000000</td>\n",
       "    </tr>\n",
       "    <tr>\n",
       "      <th>50%</th>\n",
       "      <td>0.007009</td>\n",
       "      <td>8.000000</td>\n",
       "      <td>11.000000</td>\n",
       "      <td>5.000000</td>\n",
       "    </tr>\n",
       "    <tr>\n",
       "      <th>75%</th>\n",
       "      <td>0.009590</td>\n",
       "      <td>8.000000</td>\n",
       "      <td>11.000000</td>\n",
       "      <td>7.000000</td>\n",
       "    </tr>\n",
       "    <tr>\n",
       "      <th>max</th>\n",
       "      <td>0.013261</td>\n",
       "      <td>8.000000</td>\n",
       "      <td>13.000000</td>\n",
       "      <td>9.000000</td>\n",
       "    </tr>\n",
       "  </tbody>\n",
       "</table>\n",
       "</div>"
      ],
      "text/plain": [
       "       wall clock time     score  iterations  pop size\n",
       "count         9.000000  9.000000    9.000000  9.000000\n",
       "mean          0.008247  7.777778   11.000000  5.000000\n",
       "std           0.003060  0.440959    0.866025  2.738613\n",
       "min           0.004052  7.000000   10.000000  1.000000\n",
       "25%           0.005999  8.000000   11.000000  3.000000\n",
       "50%           0.007009  8.000000   11.000000  5.000000\n",
       "75%           0.009590  8.000000   11.000000  7.000000\n",
       "max           0.013261  8.000000   13.000000  9.000000"
      ]
     },
     "execution_count": 53,
     "metadata": {},
     "output_type": "execute_result"
    }
   ],
   "source": [
    "# GA\n",
    "times = []\n",
    "scores = []\n",
    "iterations = []\n",
    "population_size =[]\n",
    "population = 0\n",
    "\n",
    "for x in range(0,9):\n",
    "    population = population + 1\n",
    "    \n",
    "    start = time.time()\n",
    "    best_state, best_fitness, fitness_curve = mlrose.genetic_alg(CPPproblem, pop_size=population, random_state = 2, curve=True)\n",
    "    end = time.time()\n",
    "    \n",
    "    times.append(end-start)\n",
    "    scores.append(best_fitness)\n",
    "    iterations.append(fitness_curve.size)\n",
    "    population_size.append(population)\n",
    "\n",
    "df = pd.DataFrame()\n",
    "df['wall clock time']=times\n",
    "df['score']=scores\n",
    "df['iterations']=iterations\n",
    "df['pop size'] =population_size\n",
    "print(df)\n",
    "df.describe()"
   ]
  },
  {
   "cell_type": "code",
   "execution_count": 49,
   "id": "3d5e9ad1",
   "metadata": {},
   "outputs": [
    {
     "name": "stdout",
     "output_type": "stream",
     "text": [
      "   wall clock time  score  iterations  num of restarts\n",
      "0         0.001211    7.0          24                1\n",
      "1         0.001831    8.0          37                2\n",
      "2         0.003957    8.0          51                3\n",
      "3         0.005156    8.0          62                4\n",
      "4         0.005780    8.0          86                5\n",
      "5         0.006549    8.0          94                6\n",
      "6         0.007506    8.0         107                7\n",
      "7         0.007648    8.0         113                8\n",
      "8         0.008779    8.0         130                9\n"
     ]
    },
    {
     "data": {
      "text/html": [
       "<div>\n",
       "<style scoped>\n",
       "    .dataframe tbody tr th:only-of-type {\n",
       "        vertical-align: middle;\n",
       "    }\n",
       "\n",
       "    .dataframe tbody tr th {\n",
       "        vertical-align: top;\n",
       "    }\n",
       "\n",
       "    .dataframe thead th {\n",
       "        text-align: right;\n",
       "    }\n",
       "</style>\n",
       "<table border=\"1\" class=\"dataframe\">\n",
       "  <thead>\n",
       "    <tr style=\"text-align: right;\">\n",
       "      <th></th>\n",
       "      <th>wall clock time</th>\n",
       "      <th>score</th>\n",
       "      <th>iterations</th>\n",
       "      <th>num of restarts</th>\n",
       "    </tr>\n",
       "  </thead>\n",
       "  <tbody>\n",
       "    <tr>\n",
       "      <th>count</th>\n",
       "      <td>9.000000</td>\n",
       "      <td>9.000000</td>\n",
       "      <td>9.000000</td>\n",
       "      <td>9.000000</td>\n",
       "    </tr>\n",
       "    <tr>\n",
       "      <th>mean</th>\n",
       "      <td>0.005380</td>\n",
       "      <td>7.888889</td>\n",
       "      <td>78.222222</td>\n",
       "      <td>5.000000</td>\n",
       "    </tr>\n",
       "    <tr>\n",
       "      <th>std</th>\n",
       "      <td>0.002617</td>\n",
       "      <td>0.333333</td>\n",
       "      <td>36.523204</td>\n",
       "      <td>2.738613</td>\n",
       "    </tr>\n",
       "    <tr>\n",
       "      <th>min</th>\n",
       "      <td>0.001211</td>\n",
       "      <td>7.000000</td>\n",
       "      <td>24.000000</td>\n",
       "      <td>1.000000</td>\n",
       "    </tr>\n",
       "    <tr>\n",
       "      <th>25%</th>\n",
       "      <td>0.003957</td>\n",
       "      <td>8.000000</td>\n",
       "      <td>51.000000</td>\n",
       "      <td>3.000000</td>\n",
       "    </tr>\n",
       "    <tr>\n",
       "      <th>50%</th>\n",
       "      <td>0.005780</td>\n",
       "      <td>8.000000</td>\n",
       "      <td>86.000000</td>\n",
       "      <td>5.000000</td>\n",
       "    </tr>\n",
       "    <tr>\n",
       "      <th>75%</th>\n",
       "      <td>0.007506</td>\n",
       "      <td>8.000000</td>\n",
       "      <td>107.000000</td>\n",
       "      <td>7.000000</td>\n",
       "    </tr>\n",
       "    <tr>\n",
       "      <th>max</th>\n",
       "      <td>0.008779</td>\n",
       "      <td>8.000000</td>\n",
       "      <td>130.000000</td>\n",
       "      <td>9.000000</td>\n",
       "    </tr>\n",
       "  </tbody>\n",
       "</table>\n",
       "</div>"
      ],
      "text/plain": [
       "       wall clock time     score  iterations  num of restarts\n",
       "count         9.000000  9.000000    9.000000         9.000000\n",
       "mean          0.005380  7.888889   78.222222         5.000000\n",
       "std           0.002617  0.333333   36.523204         2.738613\n",
       "min           0.001211  7.000000   24.000000         1.000000\n",
       "25%           0.003957  8.000000   51.000000         3.000000\n",
       "50%           0.005780  8.000000   86.000000         5.000000\n",
       "75%           0.007506  8.000000  107.000000         7.000000\n",
       "max           0.008779  8.000000  130.000000         9.000000"
      ]
     },
     "execution_count": 49,
     "metadata": {},
     "output_type": "execute_result"
    }
   ],
   "source": [
    "# RHC\n",
    "times = []\n",
    "scores = []\n",
    "iterations = []\n",
    "num_of_restarts =[]\n",
    "restart = 0\n",
    "for x in range(0,9):\n",
    "    restart = restart + 1\n",
    "    \n",
    "    start = time.time()\n",
    "    best_state, best_fitness, fitness_curve = mlrose.random_hill_climb(CPPproblem, restarts = restart, curve = True)\n",
    "    end = time.time()\n",
    "    \n",
    "    times.append(end-start)\n",
    "    scores.append(best_fitness)\n",
    "    iterations.append(fitness_curve.size)\n",
    "    num_of_restarts.append(restart)\n",
    "    \n",
    "    \n",
    "df = pd.DataFrame()\n",
    "df['wall clock time']=times\n",
    "df['score']=scores\n",
    "df['iterations']=iterations\n",
    "df['num of restarts'] =num_of_restarts\n",
    "print(df)\n",
    "df.describe()"
   ]
  },
  {
   "cell_type": "code",
   "execution_count": 50,
   "id": "7b18fc28",
   "metadata": {},
   "outputs": [
    {
     "name": "stdout",
     "output_type": "stream",
     "text": [
      "   wall clock time  score  iterations  num of attempts\n",
      "0         0.001754    7.0          17               10\n",
      "1         0.015825    8.0         175               15\n",
      "2         0.014576    8.0         172               20\n",
      "3         0.087755    8.0        1498               25\n",
      "4         0.390655    8.0        8061               30\n",
      "5         0.384564    8.0        8093               35\n",
      "6         1.388491    8.0       27995               40\n",
      "7         5.361969    8.0      128941               45\n",
      "8        11.661178    8.0      269297               50\n"
     ]
    },
    {
     "data": {
      "text/html": [
       "<div>\n",
       "<style scoped>\n",
       "    .dataframe tbody tr th:only-of-type {\n",
       "        vertical-align: middle;\n",
       "    }\n",
       "\n",
       "    .dataframe tbody tr th {\n",
       "        vertical-align: top;\n",
       "    }\n",
       "\n",
       "    .dataframe thead th {\n",
       "        text-align: right;\n",
       "    }\n",
       "</style>\n",
       "<table border=\"1\" class=\"dataframe\">\n",
       "  <thead>\n",
       "    <tr style=\"text-align: right;\">\n",
       "      <th></th>\n",
       "      <th>wall clock time</th>\n",
       "      <th>score</th>\n",
       "      <th>iterations</th>\n",
       "      <th>num of attempts</th>\n",
       "    </tr>\n",
       "  </thead>\n",
       "  <tbody>\n",
       "    <tr>\n",
       "      <th>count</th>\n",
       "      <td>9.000000</td>\n",
       "      <td>9.000000</td>\n",
       "      <td>9.000000</td>\n",
       "      <td>9.000000</td>\n",
       "    </tr>\n",
       "    <tr>\n",
       "      <th>mean</th>\n",
       "      <td>2.145196</td>\n",
       "      <td>7.888889</td>\n",
       "      <td>49361.000000</td>\n",
       "      <td>30.000000</td>\n",
       "    </tr>\n",
       "    <tr>\n",
       "      <th>std</th>\n",
       "      <td>3.961590</td>\n",
       "      <td>0.333333</td>\n",
       "      <td>92286.633443</td>\n",
       "      <td>13.693064</td>\n",
       "    </tr>\n",
       "    <tr>\n",
       "      <th>min</th>\n",
       "      <td>0.001754</td>\n",
       "      <td>7.000000</td>\n",
       "      <td>17.000000</td>\n",
       "      <td>10.000000</td>\n",
       "    </tr>\n",
       "    <tr>\n",
       "      <th>25%</th>\n",
       "      <td>0.015825</td>\n",
       "      <td>8.000000</td>\n",
       "      <td>175.000000</td>\n",
       "      <td>20.000000</td>\n",
       "    </tr>\n",
       "    <tr>\n",
       "      <th>50%</th>\n",
       "      <td>0.384564</td>\n",
       "      <td>8.000000</td>\n",
       "      <td>8061.000000</td>\n",
       "      <td>30.000000</td>\n",
       "    </tr>\n",
       "    <tr>\n",
       "      <th>75%</th>\n",
       "      <td>1.388491</td>\n",
       "      <td>8.000000</td>\n",
       "      <td>27995.000000</td>\n",
       "      <td>40.000000</td>\n",
       "    </tr>\n",
       "    <tr>\n",
       "      <th>max</th>\n",
       "      <td>11.661178</td>\n",
       "      <td>8.000000</td>\n",
       "      <td>269297.000000</td>\n",
       "      <td>50.000000</td>\n",
       "    </tr>\n",
       "  </tbody>\n",
       "</table>\n",
       "</div>"
      ],
      "text/plain": [
       "       wall clock time     score     iterations  num of attempts\n",
       "count         9.000000  9.000000       9.000000         9.000000\n",
       "mean          2.145196  7.888889   49361.000000        30.000000\n",
       "std           3.961590  0.333333   92286.633443        13.693064\n",
       "min           0.001754  7.000000      17.000000        10.000000\n",
       "25%           0.015825  8.000000     175.000000        20.000000\n",
       "50%           0.384564  8.000000    8061.000000        30.000000\n",
       "75%           1.388491  8.000000   27995.000000        40.000000\n",
       "max          11.661178  8.000000  269297.000000        50.000000"
      ]
     },
     "execution_count": 50,
     "metadata": {},
     "output_type": "execute_result"
    }
   ],
   "source": [
    "# SA\n",
    "times = []\n",
    "scores = []\n",
    "iterations = []\n",
    "num_of_attempts =[]\n",
    "max_attempt = 5\n",
    "\n",
    "for x in range(0,9):\n",
    "    max_attempt = max_attempt + 5\n",
    "    \n",
    "    start = time.time()\n",
    "    best_state, best_fitness, fitness_curve = mlrose.simulated_annealing(CPPproblem, max_attempts = max_attempt, curve=True)\n",
    "    end = time.time()\n",
    "    \n",
    "    times.append(end-start)\n",
    "    scores.append(best_fitness)\n",
    "    iterations.append(fitness_curve.size)\n",
    "    num_of_attempts.append(max_attempt)\n",
    "    \n",
    "df = pd.DataFrame()\n",
    "df['wall clock time']=times\n",
    "df['score']=scores\n",
    "df['iterations']=iterations\n",
    "df['num of attempts'] =num_of_attempts\n",
    "print(df)\n",
    "df.describe()"
   ]
  },
  {
   "cell_type": "code",
   "execution_count": 51,
   "id": "fef89b6d",
   "metadata": {},
   "outputs": [
    {
     "name": "stdout",
     "output_type": "stream",
     "text": [
      "   wall clock time  score  iterations  pop size\n",
      "0         0.133463    7.0          10         1\n",
      "1         0.118602    7.0          10         2\n",
      "2         0.131471    8.0          11         3\n",
      "3         0.133225    8.0          11         4\n",
      "4         0.145201    8.0          11         5\n",
      "5         0.139621    8.0          11         6\n",
      "6         0.136547    8.0          11         7\n",
      "7         0.157028    8.0          11         8\n",
      "8         0.147898    8.0          11         9\n"
     ]
    },
    {
     "data": {
      "text/html": [
       "<div>\n",
       "<style scoped>\n",
       "    .dataframe tbody tr th:only-of-type {\n",
       "        vertical-align: middle;\n",
       "    }\n",
       "\n",
       "    .dataframe tbody tr th {\n",
       "        vertical-align: top;\n",
       "    }\n",
       "\n",
       "    .dataframe thead th {\n",
       "        text-align: right;\n",
       "    }\n",
       "</style>\n",
       "<table border=\"1\" class=\"dataframe\">\n",
       "  <thead>\n",
       "    <tr style=\"text-align: right;\">\n",
       "      <th></th>\n",
       "      <th>wall clock time</th>\n",
       "      <th>score</th>\n",
       "      <th>iterations</th>\n",
       "      <th>pop size</th>\n",
       "    </tr>\n",
       "  </thead>\n",
       "  <tbody>\n",
       "    <tr>\n",
       "      <th>count</th>\n",
       "      <td>9.000000</td>\n",
       "      <td>9.000000</td>\n",
       "      <td>9.000000</td>\n",
       "      <td>9.000000</td>\n",
       "    </tr>\n",
       "    <tr>\n",
       "      <th>mean</th>\n",
       "      <td>0.138118</td>\n",
       "      <td>7.777778</td>\n",
       "      <td>10.777778</td>\n",
       "      <td>5.000000</td>\n",
       "    </tr>\n",
       "    <tr>\n",
       "      <th>std</th>\n",
       "      <td>0.011061</td>\n",
       "      <td>0.440959</td>\n",
       "      <td>0.440959</td>\n",
       "      <td>2.738613</td>\n",
       "    </tr>\n",
       "    <tr>\n",
       "      <th>min</th>\n",
       "      <td>0.118602</td>\n",
       "      <td>7.000000</td>\n",
       "      <td>10.000000</td>\n",
       "      <td>1.000000</td>\n",
       "    </tr>\n",
       "    <tr>\n",
       "      <th>25%</th>\n",
       "      <td>0.133225</td>\n",
       "      <td>8.000000</td>\n",
       "      <td>11.000000</td>\n",
       "      <td>3.000000</td>\n",
       "    </tr>\n",
       "    <tr>\n",
       "      <th>50%</th>\n",
       "      <td>0.136547</td>\n",
       "      <td>8.000000</td>\n",
       "      <td>11.000000</td>\n",
       "      <td>5.000000</td>\n",
       "    </tr>\n",
       "    <tr>\n",
       "      <th>75%</th>\n",
       "      <td>0.145201</td>\n",
       "      <td>8.000000</td>\n",
       "      <td>11.000000</td>\n",
       "      <td>7.000000</td>\n",
       "    </tr>\n",
       "    <tr>\n",
       "      <th>max</th>\n",
       "      <td>0.157028</td>\n",
       "      <td>8.000000</td>\n",
       "      <td>11.000000</td>\n",
       "      <td>9.000000</td>\n",
       "    </tr>\n",
       "  </tbody>\n",
       "</table>\n",
       "</div>"
      ],
      "text/plain": [
       "       wall clock time     score  iterations  pop size\n",
       "count         9.000000  9.000000    9.000000  9.000000\n",
       "mean          0.138118  7.777778   10.777778  5.000000\n",
       "std           0.011061  0.440959    0.440959  2.738613\n",
       "min           0.118602  7.000000   10.000000  1.000000\n",
       "25%           0.133225  8.000000   11.000000  3.000000\n",
       "50%           0.136547  8.000000   11.000000  5.000000\n",
       "75%           0.145201  8.000000   11.000000  7.000000\n",
       "max           0.157028  8.000000   11.000000  9.000000"
      ]
     },
     "execution_count": 51,
     "metadata": {},
     "output_type": "execute_result"
    }
   ],
   "source": [
    "# MIMIC\n",
    "times = []\n",
    "scores = []\n",
    "iterations = []\n",
    "population_size =[]\n",
    "population = 0\n",
    "\n",
    "\n",
    "for x in range(0,9):\n",
    "    population = population + 1\n",
    "    \n",
    "    start = time.time()\n",
    "    best_state, best_fitness, fitness_curve = mlrose.mimic(CPPproblem, pop_size=population, random_state = 2, curve=True)\n",
    "    end = time.time()\n",
    "    \n",
    "    times.append(end-start)\n",
    "    scores.append(best_fitness)\n",
    "    iterations.append(fitness_curve.size)\n",
    "    population_size.append(population)\n",
    "\n",
    "df = pd.DataFrame()\n",
    "df['wall clock time']=times\n",
    "df['score']=scores\n",
    "df['iterations']=iterations\n",
    "df['pop size'] =population_size\n",
    "print(df)\n",
    "df.describe()"
   ]
  },
  {
   "cell_type": "code",
   "execution_count": 54,
   "id": "8da22eca",
   "metadata": {},
   "outputs": [],
   "source": [
    "#larger CPP problem"
   ]
  },
  {
   "cell_type": "code",
   "execution_count": 402,
   "id": "eaa2e9de",
   "metadata": {},
   "outputs": [],
   "source": [
    "fitness = mlrose.ContinuousPeaks(t_pct=0.15)\n",
    "# Define optimization problem object\n",
    "CPPproblem = mlrose.DiscreteOpt(length=60, fitness_fn=fitness, maximize=True, max_val=2)"
   ]
  },
  {
   "cell_type": "code",
   "execution_count": 403,
   "id": "686471e0",
   "metadata": {},
   "outputs": [
    {
     "name": "stdout",
     "output_type": "stream",
     "text": [
      "   wall clock time  score  iterations  pop size\n",
      "0         0.104751   14.0          23        15\n",
      "1         0.068832   71.0          16        20\n",
      "2         0.057615   16.0          16        25\n",
      "3         0.064543   71.0          15        30\n",
      "4         0.055221   12.0          11        35\n",
      "5         0.090901   75.0          16        40\n",
      "6         0.089046   76.0          13        45\n",
      "7         0.104239   16.0          13        50\n",
      "8         0.156773   17.0          19        55\n"
     ]
    },
    {
     "data": {
      "text/html": [
       "<div>\n",
       "<style scoped>\n",
       "    .dataframe tbody tr th:only-of-type {\n",
       "        vertical-align: middle;\n",
       "    }\n",
       "\n",
       "    .dataframe tbody tr th {\n",
       "        vertical-align: top;\n",
       "    }\n",
       "\n",
       "    .dataframe thead th {\n",
       "        text-align: right;\n",
       "    }\n",
       "</style>\n",
       "<table border=\"1\" class=\"dataframe\">\n",
       "  <thead>\n",
       "    <tr style=\"text-align: right;\">\n",
       "      <th></th>\n",
       "      <th>wall clock time</th>\n",
       "      <th>score</th>\n",
       "      <th>iterations</th>\n",
       "      <th>pop size</th>\n",
       "    </tr>\n",
       "  </thead>\n",
       "  <tbody>\n",
       "    <tr>\n",
       "      <th>count</th>\n",
       "      <td>9.000000</td>\n",
       "      <td>9.000000</td>\n",
       "      <td>9.000000</td>\n",
       "      <td>9.000000</td>\n",
       "    </tr>\n",
       "    <tr>\n",
       "      <th>mean</th>\n",
       "      <td>0.087991</td>\n",
       "      <td>40.888889</td>\n",
       "      <td>15.777778</td>\n",
       "      <td>35.000000</td>\n",
       "    </tr>\n",
       "    <tr>\n",
       "      <th>std</th>\n",
       "      <td>0.032013</td>\n",
       "      <td>30.775170</td>\n",
       "      <td>3.562926</td>\n",
       "      <td>13.693064</td>\n",
       "    </tr>\n",
       "    <tr>\n",
       "      <th>min</th>\n",
       "      <td>0.055221</td>\n",
       "      <td>12.000000</td>\n",
       "      <td>11.000000</td>\n",
       "      <td>15.000000</td>\n",
       "    </tr>\n",
       "    <tr>\n",
       "      <th>25%</th>\n",
       "      <td>0.064543</td>\n",
       "      <td>16.000000</td>\n",
       "      <td>13.000000</td>\n",
       "      <td>25.000000</td>\n",
       "    </tr>\n",
       "    <tr>\n",
       "      <th>50%</th>\n",
       "      <td>0.089046</td>\n",
       "      <td>17.000000</td>\n",
       "      <td>16.000000</td>\n",
       "      <td>35.000000</td>\n",
       "    </tr>\n",
       "    <tr>\n",
       "      <th>75%</th>\n",
       "      <td>0.104239</td>\n",
       "      <td>71.000000</td>\n",
       "      <td>16.000000</td>\n",
       "      <td>45.000000</td>\n",
       "    </tr>\n",
       "    <tr>\n",
       "      <th>max</th>\n",
       "      <td>0.156773</td>\n",
       "      <td>76.000000</td>\n",
       "      <td>23.000000</td>\n",
       "      <td>55.000000</td>\n",
       "    </tr>\n",
       "  </tbody>\n",
       "</table>\n",
       "</div>"
      ],
      "text/plain": [
       "       wall clock time      score  iterations   pop size\n",
       "count         9.000000   9.000000    9.000000   9.000000\n",
       "mean          0.087991  40.888889   15.777778  35.000000\n",
       "std           0.032013  30.775170    3.562926  13.693064\n",
       "min           0.055221  12.000000   11.000000  15.000000\n",
       "25%           0.064543  16.000000   13.000000  25.000000\n",
       "50%           0.089046  17.000000   16.000000  35.000000\n",
       "75%           0.104239  71.000000   16.000000  45.000000\n",
       "max           0.156773  76.000000   23.000000  55.000000"
      ]
     },
     "execution_count": 403,
     "metadata": {},
     "output_type": "execute_result"
    },
    {
     "data": {
      "image/png": "[encoded data removed]",
      "text/plain": [
       "<Figure size 432x288 with 1 Axes>"
      ]
     },
     "metadata": {
      "needs_background": "light"
     },
     "output_type": "display_data"
    }
   ],
   "source": [
    "# GA\n",
    "times = []\n",
    "scores = []\n",
    "iterations = []\n",
    "population_size =[]\n",
    "population = 10\n",
    "\n",
    "for x in range(0,9):\n",
    "    population = population + 5\n",
    "    \n",
    "    start = time.time()\n",
    "    best_state, best_fitness, fitness_curve = mlrose.genetic_alg(CPPproblem, pop_size=population, random_state = 2, curve=True)\n",
    "    end = time.time()\n",
    "    \n",
    "    times.append(end-start)\n",
    "    scores.append(best_fitness)\n",
    "    iterations.append(fitness_curve.size)\n",
    "    population_size.append(population)\n",
    "\n",
    "df = pd.DataFrame()\n",
    "df['wall clock time']=times\n",
    "df['score']=scores\n",
    "df['iterations']=iterations\n",
    "df['pop size'] =population_size\n",
    "print(df)\n",
    "\n",
    "x=population_size\n",
    "y=scores\n",
    "plt.plot(x,y)\n",
    "plt.title(\"GA for Continuous Peaks Problem, length = 60\")\n",
    "plt.xlabel(\"population\")\n",
    "plt.ylabel(\"fitness score\")\n",
    "\n",
    "df.describe()"
   ]
  },
  {
   "cell_type": "code",
   "execution_count": 404,
   "id": "2233bce7",
   "metadata": {},
   "outputs": [
    {
     "data": {
      "text/plain": [
       "Text(0.5, 1.0, 'Fitness Convergence for CPP using GA, length = 60')"
      ]
     },
     "execution_count": 404,
     "metadata": {},
     "output_type": "execute_result"
    },
    {
     "data": {
      "image/png": "[encoded data removed]",
      "text/plain": [
       "<Figure size 432x288 with 1 Axes>"
      ]
     },
     "metadata": {
      "needs_background": "light"
     },
     "output_type": "display_data"
    }
   ],
   "source": [
    "plt.plot(fitness_curve)\n",
    "plt.xlabel('iterations')\n",
    "plt.ylabel('fitness')\n",
    "plt.title('Fitness Convergence for CPP using GA, length = 60')"
   ]
  },
  {
   "cell_type": "code",
   "execution_count": 405,
   "id": "39ea1892",
   "metadata": {
    "scrolled": true
   },
   "outputs": [
    {
     "name": "stdout",
     "output_type": "stream",
     "text": [
      "   wall clock time  score  iterations  num of restarts\n",
      "0         0.026333   14.0         441               30\n",
      "1         0.030026   12.0         489               31\n",
      "2         0.025521   11.0         428               33\n",
      "3         0.035334   16.0         471               36\n",
      "4         0.034899   72.0         604               40\n",
      "5         0.036938   14.0         612               45\n",
      "6         0.039154   17.0         676               51\n",
      "7         0.046833   19.0         837               58\n",
      "8         0.055338   13.0         987               66\n"
     ]
    },
    {
     "data": {
      "text/html": [
       "<div>\n",
       "<style scoped>\n",
       "    .dataframe tbody tr th:only-of-type {\n",
       "        vertical-align: middle;\n",
       "    }\n",
       "\n",
       "    .dataframe tbody tr th {\n",
       "        vertical-align: top;\n",
       "    }\n",
       "\n",
       "    .dataframe thead th {\n",
       "        text-align: right;\n",
       "    }\n",
       "</style>\n",
       "<table border=\"1\" class=\"dataframe\">\n",
       "  <thead>\n",
       "    <tr style=\"text-align: right;\">\n",
       "      <th></th>\n",
       "      <th>wall clock time</th>\n",
       "      <th>score</th>\n",
       "      <th>iterations</th>\n",
       "      <th>num of restarts</th>\n",
       "    </tr>\n",
       "  </thead>\n",
       "  <tbody>\n",
       "    <tr>\n",
       "      <th>count</th>\n",
       "      <td>9.000000</td>\n",
       "      <td>9.000000</td>\n",
       "      <td>9.000000</td>\n",
       "      <td>9.000000</td>\n",
       "    </tr>\n",
       "    <tr>\n",
       "      <th>mean</th>\n",
       "      <td>0.036709</td>\n",
       "      <td>20.888889</td>\n",
       "      <td>616.111111</td>\n",
       "      <td>43.333333</td>\n",
       "    </tr>\n",
       "    <tr>\n",
       "      <th>std</th>\n",
       "      <td>0.009606</td>\n",
       "      <td>19.329023</td>\n",
       "      <td>191.495721</td>\n",
       "      <td>12.708265</td>\n",
       "    </tr>\n",
       "    <tr>\n",
       "      <th>min</th>\n",
       "      <td>0.025521</td>\n",
       "      <td>11.000000</td>\n",
       "      <td>428.000000</td>\n",
       "      <td>30.000000</td>\n",
       "    </tr>\n",
       "    <tr>\n",
       "      <th>25%</th>\n",
       "      <td>0.030026</td>\n",
       "      <td>13.000000</td>\n",
       "      <td>471.000000</td>\n",
       "      <td>33.000000</td>\n",
       "    </tr>\n",
       "    <tr>\n",
       "      <th>50%</th>\n",
       "      <td>0.035334</td>\n",
       "      <td>14.000000</td>\n",
       "      <td>604.000000</td>\n",
       "      <td>40.000000</td>\n",
       "    </tr>\n",
       "    <tr>\n",
       "      <th>75%</th>\n",
       "      <td>0.039154</td>\n",
       "      <td>17.000000</td>\n",
       "      <td>676.000000</td>\n",
       "      <td>51.000000</td>\n",
       "    </tr>\n",
       "    <tr>\n",
       "      <th>max</th>\n",
       "      <td>0.055338</td>\n",
       "      <td>72.000000</td>\n",
       "      <td>987.000000</td>\n",
       "      <td>66.000000</td>\n",
       "    </tr>\n",
       "  </tbody>\n",
       "</table>\n",
       "</div>"
      ],
      "text/plain": [
       "       wall clock time      score  iterations  num of restarts\n",
       "count         9.000000   9.000000    9.000000         9.000000\n",
       "mean          0.036709  20.888889  616.111111        43.333333\n",
       "std           0.009606  19.329023  191.495721        12.708265\n",
       "min           0.025521  11.000000  428.000000        30.000000\n",
       "25%           0.030026  13.000000  471.000000        33.000000\n",
       "50%           0.035334  14.000000  604.000000        40.000000\n",
       "75%           0.039154  17.000000  676.000000        51.000000\n",
       "max           0.055338  72.000000  987.000000        66.000000"
      ]
     },
     "execution_count": 405,
     "metadata": {},
     "output_type": "execute_result"
    },
    {
     "data": {
      "image/png": "[encoded data removed]",
      "text/plain": [
       "<Figure size 432x288 with 1 Axes>"
      ]
     },
     "metadata": {
      "needs_background": "light"
     },
     "output_type": "display_data"
    }
   ],
   "source": [
    "# RHC\n",
    "times = []\n",
    "scores = []\n",
    "iterations = []\n",
    "num_of_restarts =[]\n",
    "restart = 30\n",
    "for x in range(0,9):\n",
    "    restart = restart + x\n",
    "    \n",
    "    start = time.time()\n",
    "    best_state, best_fitness, fitness_curve = mlrose.random_hill_climb(CPPproblem, restarts = restart, curve = True)\n",
    "    end = time.time()\n",
    "    \n",
    "    times.append(end-start)\n",
    "    scores.append(best_fitness)\n",
    "    iterations.append(fitness_curve.size)\n",
    "    num_of_restarts.append(restart)\n",
    "    \n",
    "    \n",
    "df = pd.DataFrame()\n",
    "df['wall clock time']=times\n",
    "df['score']=scores\n",
    "df['iterations']=iterations\n",
    "df['num of restarts'] =num_of_restarts\n",
    "print(df)\n",
    "\n",
    "x=num_of_restarts\n",
    "y=scores\n",
    "plt.plot(x,y)\n",
    "plt.title(\"RHC for Continuous Peaks Problem, length = 60\")\n",
    "plt.xlabel(\"# restarts\")\n",
    "plt.ylabel(\"fitness score\")\n",
    "\n",
    "df.describe()"
   ]
  },
  {
   "cell_type": "code",
   "execution_count": 406,
   "id": "64487dc0",
   "metadata": {},
   "outputs": [
    {
     "data": {
      "text/plain": [
       "Text(0.5, 1.0, 'Fitness Convergence for CPP using RHC, length = 60')"
      ]
     },
     "execution_count": 406,
     "metadata": {},
     "output_type": "execute_result"
    },
    {
     "data": {
      "image/png": "[encoded data removed]",
      "text/plain": [
       "<Figure size 432x288 with 1 Axes>"
      ]
     },
     "metadata": {
      "needs_background": "light"
     },
     "output_type": "display_data"
    }
   ],
   "source": [
    "plt.plot(fitness_curve)\n",
    "plt.xlabel('iterations')\n",
    "plt.ylabel('fitness')\n",
    "plt.title('Fitness Convergence for CPP using RHC, length = 60')"
   ]
  },
  {
   "cell_type": "code",
   "execution_count": 407,
   "id": "840291a3",
   "metadata": {
    "scrolled": true
   },
   "outputs": [
    {
     "name": "stdout",
     "output_type": "stream",
     "text": [
      "   wall clock time  score  iterations  num of attempts\n",
      "0         0.043729   92.0         531               10\n",
      "1         0.054794   89.0         616               15\n",
      "2         0.097293  103.0        1330               20\n",
      "3         0.070030   50.0         970               25\n",
      "4         0.053846  110.0         720               30\n",
      "5         0.056001  107.0         775               35\n",
      "6         0.058067  110.0         789               40\n",
      "7         0.118061  108.0        1662               45\n",
      "8         0.062770   54.0         882               50\n"
     ]
    },
    {
     "data": {
      "text/html": [
       "<div>\n",
       "<style scoped>\n",
       "    .dataframe tbody tr th:only-of-type {\n",
       "        vertical-align: middle;\n",
       "    }\n",
       "\n",
       "    .dataframe tbody tr th {\n",
       "        vertical-align: top;\n",
       "    }\n",
       "\n",
       "    .dataframe thead th {\n",
       "        text-align: right;\n",
       "    }\n",
       "</style>\n",
       "<table border=\"1\" class=\"dataframe\">\n",
       "  <thead>\n",
       "    <tr style=\"text-align: right;\">\n",
       "      <th></th>\n",
       "      <th>wall clock time</th>\n",
       "      <th>score</th>\n",
       "      <th>iterations</th>\n",
       "      <th>num of attempts</th>\n",
       "    </tr>\n",
       "  </thead>\n",
       "  <tbody>\n",
       "    <tr>\n",
       "      <th>count</th>\n",
       "      <td>9.000000</td>\n",
       "      <td>9.000000</td>\n",
       "      <td>9.000000</td>\n",
       "      <td>9.000000</td>\n",
       "    </tr>\n",
       "    <tr>\n",
       "      <th>mean</th>\n",
       "      <td>0.068288</td>\n",
       "      <td>91.444444</td>\n",
       "      <td>919.444444</td>\n",
       "      <td>30.000000</td>\n",
       "    </tr>\n",
       "    <tr>\n",
       "      <th>std</th>\n",
       "      <td>0.023983</td>\n",
       "      <td>23.622612</td>\n",
       "      <td>361.339214</td>\n",
       "      <td>13.693064</td>\n",
       "    </tr>\n",
       "    <tr>\n",
       "      <th>min</th>\n",
       "      <td>0.043729</td>\n",
       "      <td>50.000000</td>\n",
       "      <td>531.000000</td>\n",
       "      <td>10.000000</td>\n",
       "    </tr>\n",
       "    <tr>\n",
       "      <th>25%</th>\n",
       "      <td>0.054794</td>\n",
       "      <td>89.000000</td>\n",
       "      <td>720.000000</td>\n",
       "      <td>20.000000</td>\n",
       "    </tr>\n",
       "    <tr>\n",
       "      <th>50%</th>\n",
       "      <td>0.058067</td>\n",
       "      <td>103.000000</td>\n",
       "      <td>789.000000</td>\n",
       "      <td>30.000000</td>\n",
       "    </tr>\n",
       "    <tr>\n",
       "      <th>75%</th>\n",
       "      <td>0.070030</td>\n",
       "      <td>108.000000</td>\n",
       "      <td>970.000000</td>\n",
       "      <td>40.000000</td>\n",
       "    </tr>\n",
       "    <tr>\n",
       "      <th>max</th>\n",
       "      <td>0.118061</td>\n",
       "      <td>110.000000</td>\n",
       "      <td>1662.000000</td>\n",
       "      <td>50.000000</td>\n",
       "    </tr>\n",
       "  </tbody>\n",
       "</table>\n",
       "</div>"
      ],
      "text/plain": [
       "       wall clock time       score   iterations  num of attempts\n",
       "count         9.000000    9.000000     9.000000         9.000000\n",
       "mean          0.068288   91.444444   919.444444        30.000000\n",
       "std           0.023983   23.622612   361.339214        13.693064\n",
       "min           0.043729   50.000000   531.000000        10.000000\n",
       "25%           0.054794   89.000000   720.000000        20.000000\n",
       "50%           0.058067  103.000000   789.000000        30.000000\n",
       "75%           0.070030  108.000000   970.000000        40.000000\n",
       "max           0.118061  110.000000  1662.000000        50.000000"
      ]
     },
     "execution_count": 407,
     "metadata": {},
     "output_type": "execute_result"
    },
    {
     "data": {
      "image/png": "[encoded data removed]",
      "text/plain": [
       "<Figure size 432x288 with 1 Axes>"
      ]
     },
     "metadata": {
      "needs_background": "light"
     },
     "output_type": "display_data"
    }
   ],
   "source": [
    "# SA\n",
    "times = []\n",
    "scores = []\n",
    "iterations = []\n",
    "num_of_attempts =[]\n",
    "max_attempt = 5\n",
    "\n",
    "for x in range(0,9):\n",
    "    max_attempt = max_attempt + 5\n",
    "    \n",
    "    start = time.time()\n",
    "    best_state, best_fitness, fitness_curve = mlrose.simulated_annealing(CPPproblem, max_attempts = max_attempt, curve=True)\n",
    "    end = time.time()\n",
    "    \n",
    "    times.append(end-start)\n",
    "    scores.append(best_fitness)\n",
    "    iterations.append(fitness_curve.size)\n",
    "    num_of_attempts.append(max_attempt)\n",
    "    \n",
    "df = pd.DataFrame()\n",
    "df['wall clock time']=times\n",
    "df['score']=scores\n",
    "df['iterations']=iterations\n",
    "df['num of attempts'] =num_of_attempts\n",
    "print(df)\n",
    "\n",
    "x=num_of_attempts\n",
    "y=scores\n",
    "plt.plot(x,y)\n",
    "plt.title(\"SA for Continuous Peaks Problem, length = 60\")\n",
    "plt.xlabel(\"# max attempts\")\n",
    "plt.ylabel(\"fitness score\")\n",
    "\n",
    "df.describe()"
   ]
  },
  {
   "cell_type": "code",
   "execution_count": 408,
   "id": "64afd46e",
   "metadata": {},
   "outputs": [
    {
     "data": {
      "text/plain": [
       "Text(0.5, 1.0, 'Fitness Convergence for CPP using SA, length = 60')"
      ]
     },
     "execution_count": 408,
     "metadata": {},
     "output_type": "execute_result"
    },
    {
     "data": {
      "image/png": "[encoded data removed]",
      "text/plain": [
       "<Figure size 432x288 with 1 Axes>"
      ]
     },
     "metadata": {
      "needs_background": "light"
     },
     "output_type": "display_data"
    }
   ],
   "source": [
    "plt.plot(fitness_curve)\n",
    "plt.xlabel('iterations')\n",
    "plt.ylabel('fitness')\n",
    "plt.title('Fitness Convergence for CPP using SA, length = 60')"
   ]
  },
  {
   "cell_type": "code",
   "execution_count": 409,
   "id": "250bd568",
   "metadata": {},
   "outputs": [
    {
     "name": "stdout",
     "output_type": "stream",
     "text": [
      "   wall clock time  score  iterations  pop size\n",
      "0        20.180521   10.0          11        15\n",
      "1        28.056045   19.0          15        20\n",
      "2        32.309697   73.0          17        25\n",
      "3        25.952975   18.0          14        30\n",
      "4        24.024808   14.0          13        35\n",
      "5        29.032761   79.0          15        40\n",
      "6        22.893610   76.0          12        45\n",
      "7        26.386850   80.0          14        50\n",
      "8        31.100470   80.0          17        55\n"
     ]
    },
    {
     "data": {
      "text/html": [
       "<div>\n",
       "<style scoped>\n",
       "    .dataframe tbody tr th:only-of-type {\n",
       "        vertical-align: middle;\n",
       "    }\n",
       "\n",
       "    .dataframe tbody tr th {\n",
       "        vertical-align: top;\n",
       "    }\n",
       "\n",
       "    .dataframe thead th {\n",
       "        text-align: right;\n",
       "    }\n",
       "</style>\n",
       "<table border=\"1\" class=\"dataframe\">\n",
       "  <thead>\n",
       "    <tr style=\"text-align: right;\">\n",
       "      <th></th>\n",
       "      <th>wall clock time</th>\n",
       "      <th>score</th>\n",
       "      <th>iterations</th>\n",
       "      <th>pop size</th>\n",
       "    </tr>\n",
       "  </thead>\n",
       "  <tbody>\n",
       "    <tr>\n",
       "      <th>count</th>\n",
       "      <td>9.000000</td>\n",
       "      <td>9.000000</td>\n",
       "      <td>9.000000</td>\n",
       "      <td>9.000000</td>\n",
       "    </tr>\n",
       "    <tr>\n",
       "      <th>mean</th>\n",
       "      <td>26.659748</td>\n",
       "      <td>49.888889</td>\n",
       "      <td>14.222222</td>\n",
       "      <td>35.000000</td>\n",
       "    </tr>\n",
       "    <tr>\n",
       "      <th>std</th>\n",
       "      <td>3.919564</td>\n",
       "      <td>33.028187</td>\n",
       "      <td>2.048034</td>\n",
       "      <td>13.693064</td>\n",
       "    </tr>\n",
       "    <tr>\n",
       "      <th>min</th>\n",
       "      <td>20.180521</td>\n",
       "      <td>10.000000</td>\n",
       "      <td>11.000000</td>\n",
       "      <td>15.000000</td>\n",
       "    </tr>\n",
       "    <tr>\n",
       "      <th>25%</th>\n",
       "      <td>24.024808</td>\n",
       "      <td>18.000000</td>\n",
       "      <td>13.000000</td>\n",
       "      <td>25.000000</td>\n",
       "    </tr>\n",
       "    <tr>\n",
       "      <th>50%</th>\n",
       "      <td>26.386850</td>\n",
       "      <td>73.000000</td>\n",
       "      <td>14.000000</td>\n",
       "      <td>35.000000</td>\n",
       "    </tr>\n",
       "    <tr>\n",
       "      <th>75%</th>\n",
       "      <td>29.032761</td>\n",
       "      <td>79.000000</td>\n",
       "      <td>15.000000</td>\n",
       "      <td>45.000000</td>\n",
       "    </tr>\n",
       "    <tr>\n",
       "      <th>max</th>\n",
       "      <td>32.309697</td>\n",
       "      <td>80.000000</td>\n",
       "      <td>17.000000</td>\n",
       "      <td>55.000000</td>\n",
       "    </tr>\n",
       "  </tbody>\n",
       "</table>\n",
       "</div>"
      ],
      "text/plain": [
       "       wall clock time      score  iterations   pop size\n",
       "count         9.000000   9.000000    9.000000   9.000000\n",
       "mean         26.659748  49.888889   14.222222  35.000000\n",
       "std           3.919564  33.028187    2.048034  13.693064\n",
       "min          20.180521  10.000000   11.000000  15.000000\n",
       "25%          24.024808  18.000000   13.000000  25.000000\n",
       "50%          26.386850  73.000000   14.000000  35.000000\n",
       "75%          29.032761  79.000000   15.000000  45.000000\n",
       "max          32.309697  80.000000   17.000000  55.000000"
      ]
     },
     "execution_count": 409,
     "metadata": {},
     "output_type": "execute_result"
    },
    {
     "data": {
      "image/png": "[encoded data removed]",
      "text/plain": [
       "<Figure size 432x288 with 1 Axes>"
      ]
     },
     "metadata": {
      "needs_background": "light"
     },
     "output_type": "display_data"
    }
   ],
   "source": [
    "# MIMIC\n",
    "times = []\n",
    "scores = []\n",
    "iterations = []\n",
    "population_size =[]\n",
    "population = 10\n",
    "\n",
    "for x in range(0,9):\n",
    "    population = population + 5\n",
    "    \n",
    "    start = time.time()\n",
    "    best_state, best_fitness, fitness_curve = mlrose.mimic(CPPproblem, pop_size=population, random_state = 2, curve=True)\n",
    "    end = time.time()\n",
    "    \n",
    "    times.append(end-start)\n",
    "    scores.append(best_fitness)\n",
    "    iterations.append(fitness_curve.size)\n",
    "    population_size.append(population)\n",
    "\n",
    "df = pd.DataFrame()\n",
    "df['wall clock time']=times\n",
    "df['score']=scores\n",
    "df['iterations']=iterations\n",
    "df['pop size'] =population_size\n",
    "print(df)\n",
    "\n",
    "x=population_size\n",
    "y=scores\n",
    "plt.plot(x,y)\n",
    "plt.title(\"MIMIC for Continuous Peaks Problem, length = 60\")\n",
    "plt.xlabel(\"population\")\n",
    "plt.ylabel(\"fitness score\")\n",
    "\n",
    "df.describe()"
   ]
  },
  {
   "cell_type": "code",
   "execution_count": 410,
   "id": "d0919fb7",
   "metadata": {},
   "outputs": [
    {
     "data": {
      "text/plain": [
       "Text(0.5, 1.0, 'Fitness Convergence for CPP using MIMIC, length = 60')"
      ]
     },
     "execution_count": 410,
     "metadata": {},
     "output_type": "execute_result"
    },
    {
     "data": {
      "image/png": "[encoded data removed]",
      "text/plain": [
       "<Figure size 432x288 with 1 Axes>"
      ]
     },
     "metadata": {
      "needs_background": "light"
     },
     "output_type": "display_data"
    }
   ],
   "source": [
    "plt.plot(fitness_curve)\n",
    "plt.xlabel('iterations')\n",
    "plt.ylabel('fitness')\n",
    "plt.title('Fitness Convergence for CPP using MIMIC, length = 60')"
   ]
  },
  {
   "cell_type": "code",
   "execution_count": null,
   "id": "19fcf77a",
   "metadata": {},
   "outputs": [],
   "source": [
    "############## End Continuous Peaks problem ##############"
   ]
  },
  {
   "cell_type": "code",
   "execution_count": null,
   "id": "d33082f9",
   "metadata": {},
   "outputs": [],
   "source": [
    "############## Begin NN Section ##############"
   ]
  },
  {
   "cell_type": "code",
   "execution_count": 411,
   "id": "db41153d",
   "metadata": {},
   "outputs": [],
   "source": [
    "import warnings\n",
    "\n",
    "#suppress warnings\n",
    "warnings.filterwarnings('ignore')"
   ]
  },
  {
   "cell_type": "code",
   "execution_count": 412,
   "id": "542f8ac2",
   "metadata": {},
   "outputs": [],
   "source": [
    "redWine = pd.read_csv(\"winequality-red.csv\")"
   ]
  },
  {
   "cell_type": "code",
   "execution_count": 413,
   "id": "b0e3de31",
   "metadata": {},
   "outputs": [
    {
     "data": {
      "text/html": [
       "<div>\n",
       "<style scoped>\n",
       "    .dataframe tbody tr th:only-of-type {\n",
       "        vertical-align: middle;\n",
       "    }\n",
       "\n",
       "    .dataframe tbody tr th {\n",
       "        vertical-align: top;\n",
       "    }\n",
       "\n",
       "    .dataframe thead th {\n",
       "        text-align: right;\n",
       "    }\n",
       "</style>\n",
       "<table border=\"1\" class=\"dataframe\">\n",
       "  <thead>\n",
       "    <tr style=\"text-align: right;\">\n",
       "      <th></th>\n",
       "      <th>fixed acidity</th>\n",
       "      <th>volatile acidity</th>\n",
       "      <th>citric acid</th>\n",
       "      <th>residual sugar</th>\n",
       "      <th>chlorides</th>\n",
       "      <th>free sulfur dioxide</th>\n",
       "      <th>total sulfur dioxide</th>\n",
       "      <th>density</th>\n",
       "      <th>pH</th>\n",
       "      <th>sulphates</th>\n",
       "      <th>alcohol</th>\n",
       "      <th>quality</th>\n",
       "      <th>rating</th>\n",
       "    </tr>\n",
       "  </thead>\n",
       "  <tbody>\n",
       "    <tr>\n",
       "      <th>0</th>\n",
       "      <td>7.4</td>\n",
       "      <td>0.700</td>\n",
       "      <td>0.00</td>\n",
       "      <td>1.9</td>\n",
       "      <td>0.076</td>\n",
       "      <td>11.0</td>\n",
       "      <td>34.0</td>\n",
       "      <td>0.99780</td>\n",
       "      <td>3.51</td>\n",
       "      <td>0.56</td>\n",
       "      <td>9.4</td>\n",
       "      <td>5</td>\n",
       "      <td>0</td>\n",
       "    </tr>\n",
       "    <tr>\n",
       "      <th>1</th>\n",
       "      <td>7.8</td>\n",
       "      <td>0.880</td>\n",
       "      <td>0.00</td>\n",
       "      <td>2.6</td>\n",
       "      <td>0.098</td>\n",
       "      <td>25.0</td>\n",
       "      <td>67.0</td>\n",
       "      <td>0.99680</td>\n",
       "      <td>3.20</td>\n",
       "      <td>0.68</td>\n",
       "      <td>9.8</td>\n",
       "      <td>5</td>\n",
       "      <td>0</td>\n",
       "    </tr>\n",
       "    <tr>\n",
       "      <th>2</th>\n",
       "      <td>7.8</td>\n",
       "      <td>0.760</td>\n",
       "      <td>0.04</td>\n",
       "      <td>2.3</td>\n",
       "      <td>0.092</td>\n",
       "      <td>15.0</td>\n",
       "      <td>54.0</td>\n",
       "      <td>0.99700</td>\n",
       "      <td>3.26</td>\n",
       "      <td>0.65</td>\n",
       "      <td>9.8</td>\n",
       "      <td>5</td>\n",
       "      <td>0</td>\n",
       "    </tr>\n",
       "    <tr>\n",
       "      <th>3</th>\n",
       "      <td>11.2</td>\n",
       "      <td>0.280</td>\n",
       "      <td>0.56</td>\n",
       "      <td>1.9</td>\n",
       "      <td>0.075</td>\n",
       "      <td>17.0</td>\n",
       "      <td>60.0</td>\n",
       "      <td>0.99800</td>\n",
       "      <td>3.16</td>\n",
       "      <td>0.58</td>\n",
       "      <td>9.8</td>\n",
       "      <td>6</td>\n",
       "      <td>1</td>\n",
       "    </tr>\n",
       "    <tr>\n",
       "      <th>4</th>\n",
       "      <td>7.4</td>\n",
       "      <td>0.700</td>\n",
       "      <td>0.00</td>\n",
       "      <td>1.9</td>\n",
       "      <td>0.076</td>\n",
       "      <td>11.0</td>\n",
       "      <td>34.0</td>\n",
       "      <td>0.99780</td>\n",
       "      <td>3.51</td>\n",
       "      <td>0.56</td>\n",
       "      <td>9.4</td>\n",
       "      <td>5</td>\n",
       "      <td>0</td>\n",
       "    </tr>\n",
       "    <tr>\n",
       "      <th>...</th>\n",
       "      <td>...</td>\n",
       "      <td>...</td>\n",
       "      <td>...</td>\n",
       "      <td>...</td>\n",
       "      <td>...</td>\n",
       "      <td>...</td>\n",
       "      <td>...</td>\n",
       "      <td>...</td>\n",
       "      <td>...</td>\n",
       "      <td>...</td>\n",
       "      <td>...</td>\n",
       "      <td>...</td>\n",
       "      <td>...</td>\n",
       "    </tr>\n",
       "    <tr>\n",
       "      <th>1594</th>\n",
       "      <td>6.2</td>\n",
       "      <td>0.600</td>\n",
       "      <td>0.08</td>\n",
       "      <td>2.0</td>\n",
       "      <td>0.090</td>\n",
       "      <td>32.0</td>\n",
       "      <td>44.0</td>\n",
       "      <td>0.99490</td>\n",
       "      <td>3.45</td>\n",
       "      <td>0.58</td>\n",
       "      <td>10.5</td>\n",
       "      <td>5</td>\n",
       "      <td>0</td>\n",
       "    </tr>\n",
       "    <tr>\n",
       "      <th>1595</th>\n",
       "      <td>5.9</td>\n",
       "      <td>0.550</td>\n",
       "      <td>0.10</td>\n",
       "      <td>2.2</td>\n",
       "      <td>0.062</td>\n",
       "      <td>39.0</td>\n",
       "      <td>51.0</td>\n",
       "      <td>0.99512</td>\n",
       "      <td>3.52</td>\n",
       "      <td>0.76</td>\n",
       "      <td>11.2</td>\n",
       "      <td>6</td>\n",
       "      <td>1</td>\n",
       "    </tr>\n",
       "    <tr>\n",
       "      <th>1596</th>\n",
       "      <td>6.3</td>\n",
       "      <td>0.510</td>\n",
       "      <td>0.13</td>\n",
       "      <td>2.3</td>\n",
       "      <td>0.076</td>\n",
       "      <td>29.0</td>\n",
       "      <td>40.0</td>\n",
       "      <td>0.99574</td>\n",
       "      <td>3.42</td>\n",
       "      <td>0.75</td>\n",
       "      <td>11.0</td>\n",
       "      <td>6</td>\n",
       "      <td>1</td>\n",
       "    </tr>\n",
       "    <tr>\n",
       "      <th>1597</th>\n",
       "      <td>5.9</td>\n",
       "      <td>0.645</td>\n",
       "      <td>0.12</td>\n",
       "      <td>2.0</td>\n",
       "      <td>0.075</td>\n",
       "      <td>32.0</td>\n",
       "      <td>44.0</td>\n",
       "      <td>0.99547</td>\n",
       "      <td>3.57</td>\n",
       "      <td>0.71</td>\n",
       "      <td>10.2</td>\n",
       "      <td>5</td>\n",
       "      <td>0</td>\n",
       "    </tr>\n",
       "    <tr>\n",
       "      <th>1598</th>\n",
       "      <td>6.0</td>\n",
       "      <td>0.310</td>\n",
       "      <td>0.47</td>\n",
       "      <td>3.6</td>\n",
       "      <td>0.067</td>\n",
       "      <td>18.0</td>\n",
       "      <td>42.0</td>\n",
       "      <td>0.99549</td>\n",
       "      <td>3.39</td>\n",
       "      <td>0.66</td>\n",
       "      <td>11.0</td>\n",
       "      <td>6</td>\n",
       "      <td>1</td>\n",
       "    </tr>\n",
       "  </tbody>\n",
       "</table>\n",
       "<p>1599 rows × 13 columns</p>\n",
       "</div>"
      ],
      "text/plain": [
       "      fixed acidity  volatile acidity  citric acid  residual sugar  chlorides  \\\n",
       "0               7.4             0.700         0.00             1.9      0.076   \n",
       "1               7.8             0.880         0.00             2.6      0.098   \n",
       "2               7.8             0.760         0.04             2.3      0.092   \n",
       "3              11.2             0.280         0.56             1.9      0.075   \n",
       "4               7.4             0.700         0.00             1.9      0.076   \n",
       "...             ...               ...          ...             ...        ...   \n",
       "1594            6.2             0.600         0.08             2.0      0.090   \n",
       "1595            5.9             0.550         0.10             2.2      0.062   \n",
       "1596            6.3             0.510         0.13             2.3      0.076   \n",
       "1597            5.9             0.645         0.12             2.0      0.075   \n",
       "1598            6.0             0.310         0.47             3.6      0.067   \n",
       "\n",
       "      free sulfur dioxide  total sulfur dioxide  density    pH  sulphates  \\\n",
       "0                    11.0                  34.0  0.99780  3.51       0.56   \n",
       "1                    25.0                  67.0  0.99680  3.20       0.68   \n",
       "2                    15.0                  54.0  0.99700  3.26       0.65   \n",
       "3                    17.0                  60.0  0.99800  3.16       0.58   \n",
       "4                    11.0                  34.0  0.99780  3.51       0.56   \n",
       "...                   ...                   ...      ...   ...        ...   \n",
       "1594                 32.0                  44.0  0.99490  3.45       0.58   \n",
       "1595                 39.0                  51.0  0.99512  3.52       0.76   \n",
       "1596                 29.0                  40.0  0.99574  3.42       0.75   \n",
       "1597                 32.0                  44.0  0.99547  3.57       0.71   \n",
       "1598                 18.0                  42.0  0.99549  3.39       0.66   \n",
       "\n",
       "      alcohol  quality  rating  \n",
       "0         9.4        5       0  \n",
       "1         9.8        5       0  \n",
       "2         9.8        5       0  \n",
       "3         9.8        6       1  \n",
       "4         9.4        5       0  \n",
       "...       ...      ...     ...  \n",
       "1594     10.5        5       0  \n",
       "1595     11.2        6       1  \n",
       "1596     11.0        6       1  \n",
       "1597     10.2        5       0  \n",
       "1598     11.0        6       1  \n",
       "\n",
       "[1599 rows x 13 columns]"
      ]
     },
     "execution_count": 413,
     "metadata": {},
     "output_type": "execute_result"
    }
   ],
   "source": [
    "# Adding binary classification column (from A1)\n",
    "ratingList = []\n",
    "\n",
    "#1 - good, 0 - not good\n",
    "for i in range(len(redWine)):\n",
    "    if redWine.iloc[i,11] > 5.0:\n",
    "        ratingList.append(1)\n",
    "    else:\n",
    "        ratingList.append(0)\n",
    "        \n",
    "ratings = pd.Series(ratingList)\n",
    "redWine['rating'] = ratings.values\n",
    "redWine"
   ]
  },
  {
   "cell_type": "code",
   "execution_count": 414,
   "id": "453e8577",
   "metadata": {},
   "outputs": [],
   "source": [
    "# Source: https://towardsdatascience.com/fitting-a-neural-network-using-randomized-optimization-in-python-71595de4ad2d\n",
    "from sklearn.model_selection import train_test_split\n",
    "\n",
    "x = redWine.drop(['rating', 'quality'], axis=1)\n",
    "y = redWine['rating']\n",
    "\n",
    "# Split data into training and test sets\n",
    "X_train, X_test, y_train, y_test = train_test_split(x, y,\n",
    "                                                    test_size = 0.2, random_state = 3)\n",
    "\n",
    "# Normalize feature data\n",
    "scaler = MinMaxScaler()\n",
    "\n",
    "X_train_scaled = scaler.fit_transform(X_train)\n",
    "X_test_scaled = scaler.transform(X_test)"
   ]
  },
  {
   "cell_type": "code",
   "execution_count": 415,
   "id": "1d108005",
   "metadata": {},
   "outputs": [
    {
     "name": "stdout",
     "output_type": "stream",
     "text": [
      "Training accuracy:  0.5371383893666928\n",
      "Test accuracy:  0.525\n",
      "Wall clock time:  6.26873779296875\n",
      "Loss:  0.7292952227271549\n"
     ]
    },
    {
     "data": {
      "text/plain": [
       "Text(0.5, 1.0, 'Neural Network with RHC')"
      ]
     },
     "execution_count": 415,
     "metadata": {},
     "output_type": "execute_result"
    },
    {
     "data": {
      "image/png": "[encoded data removed]",
      "text/plain": [
       "<Figure size 432x288 with 1 Axes>"
      ]
     },
     "metadata": {
      "needs_background": "light"
     },
     "output_type": "display_data"
    }
   ],
   "source": [
    "#NN with RHC\n",
    "# Initialize neural network object and fit object\n",
    "nn_modelRHC = mlrose.NeuralNetwork(hidden_nodes = [20,10,5], activation = 'sigmoid',\n",
    "                                 algorithm = 'random_hill_climb', max_iters = 1000,\n",
    "                                 bias = True, is_classifier = True, learning_rate =0.0001,\n",
    "                                 early_stopping = False, clip_max = 5, max_attempts = 100, random_state = 3, curve=True)\n",
    "\n",
    "start = time.time()\n",
    "nn_modelRHC.fit(X_train_scaled, y_train)\n",
    "# Predict labels for train set and assess accuracy\n",
    "y_train_pred = nn_modelRHC.predict(X_train_scaled)\n",
    "end = time.time()\n",
    "\n",
    "y_train_accuracy = accuracy_score(y_train, y_train_pred)\n",
    "\n",
    "print('Training accuracy: ', y_train_accuracy)\n",
    "\n",
    "# Predict labels for test set and assess accuracy\n",
    "y_test_pred = nn_modelRHC.predict(X_test_scaled)\n",
    "\n",
    "y_test_accuracy = accuracy_score(y_test, y_test_pred)\n",
    "\n",
    "print('Test accuracy: ', y_test_accuracy)\n",
    "print('Wall clock time: ', end-start)\n",
    "print('Loss: ', nn_modelRHC.loss)\n",
    "\n",
    "plt.plot(nn_modelRHC.fitness_curve)\n",
    "plt.xlabel(\"iterations\")\n",
    "plt.ylabel(\"fitness\")\n",
    "plt.title(\"Neural Network with RHC\")"
   ]
  },
  {
   "cell_type": "code",
   "execution_count": 416,
   "id": "2071c653",
   "metadata": {},
   "outputs": [
    {
     "name": "stdout",
     "output_type": "stream",
     "text": [
      "[0.471875   0.465625   0.534375   0.534375   0.53605016]\n",
      "0.5360501567398119\n"
     ]
    }
   ],
   "source": [
    "# Source: https://chrisalbon.com/code/deep_learning/keras/k-fold_cross-validating_neural_networks/\n",
    "from sklearn.model_selection import cross_val_score\n",
    "from sklearn.model_selection import StratifiedKFold\n",
    "#cross-validation\n",
    "# cross_val_scores = cross_val_score(nn_modelRHC, redWine.drop(['rating', 'quality'], axis=1), redWine['rating'], cv=5)\n",
    "cross_val_scores = cross_val_score(nn_modelRHC, redWine.iloc[:, 2:-2].values, redWine.iloc[:, -1].values, cv=StratifiedKFold(shuffle=True))#,scoring='roc_auc')\n",
    "print(cross_val_scores)\n",
    "print(cross_val_scores.max())"
   ]
  },
  {
   "cell_type": "code",
   "execution_count": 417,
   "id": "6d2997e4",
   "metadata": {},
   "outputs": [
    {
     "name": "stdout",
     "output_type": "stream",
     "text": [
      "Training accuracy:  0.7357310398749023\n",
      "Test accuracy:  0.76875\n",
      "Wall clock time:  9.13326907157898\n",
      "Loss:  0.5050568232074941\n"
     ]
    },
    {
     "data": {
      "text/plain": [
       "Text(0.5, 1.0, 'Neural Network with GD')"
      ]
     },
     "execution_count": 417,
     "metadata": {},
     "output_type": "execute_result"
    },
    {
     "data": {
      "image/png": "[encoded data removed]",
      "text/plain": [
       "<Figure size 432x288 with 1 Axes>"
      ]
     },
     "metadata": {
      "needs_background": "light"
     },
     "output_type": "display_data"
    }
   ],
   "source": [
    "#NN with GD\n",
    "# Initialize neural network object and fit object\n",
    "nn_modelGD = mlrose.NeuralNetwork(hidden_nodes = [20,10,5], activation = 'relu',\n",
    "                                 algorithm = 'gradient_descent', max_iters = 1000,\n",
    "                                 bias = True, is_classifier = True, learning_rate = 0.0001,\n",
    "                                 early_stopping = False, clip_max = 5, max_attempts = 100,\n",
    "                                 random_state = 3, curve = True)\n",
    "start = time.time()\n",
    "nn_modelGD.fit(X_train_scaled, y_train)\n",
    "# Predict labels for train set and assess accuracy\n",
    "y_train_pred = nn_modelGD.predict(X_train_scaled)\n",
    "end = time.time()\n",
    "\n",
    "y_train_accuracy = accuracy_score(y_train, y_train_pred)\n",
    "\n",
    "print('Training accuracy: ', y_train_accuracy)\n",
    "\n",
    "# Predict labels for test set and assess accuracy\n",
    "y_test_pred = nn_modelGD.predict(X_test_scaled)\n",
    "\n",
    "y_test_accuracy = accuracy_score(y_test, y_test_pred)\n",
    "\n",
    "print('Test accuracy: ', y_test_accuracy)\n",
    "print('Wall clock time: ', end-start)\n",
    "print('Loss: ', nn_modelGD.loss)\n",
    "\n",
    "plt.plot(nn_modelGD.fitness_curve)\n",
    "plt.xlabel(\"iterations\")\n",
    "plt.ylabel(\"fitness\")\n",
    "plt.title(\"Neural Network with GD\")"
   ]
  },
  {
   "cell_type": "code",
   "execution_count": 418,
   "id": "959d7f8b",
   "metadata": {},
   "outputs": [
    {
     "name": "stdout",
     "output_type": "stream",
     "text": [
      "[0.534375   0.5375     0.465625   0.60625    0.46394984]\n",
      "0.60625\n"
     ]
    }
   ],
   "source": [
    "# Source: https://chrisalbon.com/code/deep_learning/keras/k-fold_cross-validating_neural_networks/\n",
    "#cross-validation\n",
    "cross_val_scores = cross_val_score(nn_modelGD, redWine.iloc[:, 2:-2].values, redWine.iloc[:, -1].values, cv=StratifiedKFold(shuffle=True))#,scoring='roc_auc')\n",
    "print(cross_val_scores)\n",
    "print(cross_val_scores.max())"
   ]
  },
  {
   "cell_type": "code",
   "execution_count": 419,
   "id": "13f68c57",
   "metadata": {},
   "outputs": [
    {
     "name": "stdout",
     "output_type": "stream",
     "text": [
      "Training accuracy:  0.5371383893666928\n",
      "Test accuracy:  0.525\n",
      "Wall clock time:  7.654667854309082\n",
      "Loss:  0.7293780405873663\n"
     ]
    },
    {
     "data": {
      "text/plain": [
       "Text(0.5, 1.0, 'Neural Network with SA')"
      ]
     },
     "execution_count": 419,
     "metadata": {},
     "output_type": "execute_result"
    },
    {
     "data": {
      "image/png": "[encoded data removed]",
      "text/plain": [
       "<Figure size 432x288 with 1 Axes>"
      ]
     },
     "metadata": {
      "needs_background": "light"
     },
     "output_type": "display_data"
    }
   ],
   "source": [
    "#NN with SA\n",
    "# Initialize neural network object and fit object\n",
    "nn_modelSA = mlrose.NeuralNetwork(hidden_nodes = [20,10,5], activation = 'sigmoid',\n",
    "                                 algorithm = 'simulated_annealing', max_iters = 1000,\n",
    "                                 bias = True, is_classifier = True, learning_rate = 0.0001,\n",
    "                                 early_stopping = False, clip_max = 5, max_attempts = 100,\n",
    "                                 random_state = 3, curve = True, schedule = mlrose.ExpDecay())\n",
    "start = time.time()\n",
    "nn_modelSA.fit(X_train_scaled, y_train)\n",
    "# Predict labels for train set and assess accuracy\n",
    "y_train_pred = nn_modelSA.predict(X_train_scaled)\n",
    "end = time.time()\n",
    "\n",
    "y_train_accuracy = accuracy_score(y_train, y_train_pred)\n",
    "\n",
    "print('Training accuracy: ', y_train_accuracy)\n",
    "\n",
    "# Predict labels for test set and assess accuracy\n",
    "y_test_pred = nn_modelSA.predict(X_test_scaled)\n",
    "\n",
    "y_test_accuracy = accuracy_score(y_test, y_test_pred)\n",
    "\n",
    "print('Test accuracy: ', y_test_accuracy)\n",
    "print('Wall clock time: ', end-start)\n",
    "print('Loss: ', nn_modelSA.loss)\n",
    "\n",
    "plt.plot(nn_modelSA.fitness_curve)\n",
    "plt.xlabel(\"iterations\")\n",
    "plt.ylabel(\"fitness\")\n",
    "plt.title(\"Neural Network with SA\")"
   ]
  },
  {
   "cell_type": "code",
   "execution_count": 420,
   "id": "4f3fb9be",
   "metadata": {},
   "outputs": [
    {
     "name": "stdout",
     "output_type": "stream",
     "text": [
      "[0.465625   0.6125     0.434375   0.465625   0.53605016]\n",
      "0.6125\n"
     ]
    }
   ],
   "source": [
    "# Source: https://chrisalbon.com/code/deep_learning/keras/k-fold_cross-validating_neural_networks/\n",
    "#cross-validation\n",
    "cross_val_scores = cross_val_score(nn_modelSA, redWine.iloc[:, 2:-2].values, redWine.iloc[:, -1].values, cv=StratifiedKFold(shuffle=True))#,scoring='roc_auc')\n",
    "print(cross_val_scores)\n",
    "print(cross_val_scores.max())"
   ]
  },
  {
   "cell_type": "code",
   "execution_count": 421,
   "id": "c8773888",
   "metadata": {},
   "outputs": [
    {
     "name": "stdout",
     "output_type": "stream",
     "text": [
      "Training accuracy:  0.7036747458952306\n",
      "Test accuracy:  0.728125\n",
      "Wall clock time:  1001.7396628856659\n",
      "Loss:  0.5916807928118397\n"
     ]
    },
    {
     "data": {
      "text/plain": [
       "Text(0.5, 1.0, 'Neural Network with GA')"
      ]
     },
     "execution_count": 421,
     "metadata": {},
     "output_type": "execute_result"
    },
    {
     "data": {
      "image/png": "[encoded data removed]",
      "text/plain": [
       "<Figure size 432x288 with 1 Axes>"
      ]
     },
     "metadata": {
      "needs_background": "light"
     },
     "output_type": "display_data"
    }
   ],
   "source": [
    "#NN with GA\n",
    "# Initialize neural network object and fit object\n",
    "nn_modelGA = mlrose.NeuralNetwork(hidden_nodes = [20,10,5], activation = 'sigmoid',\n",
    "                                 algorithm = 'genetic_alg', max_iters = 1000,\n",
    "                                 bias = True, is_classifier = True, learning_rate = 0.0001,\n",
    "                                 early_stopping = False, clip_max = 5, max_attempts = 100,\n",
    "                                 random_state = 3, curve = True)\n",
    "start = time.time()\n",
    "nn_modelGA.fit(X_train_scaled, y_train)\n",
    "# Predict labels for train set and assess accuracy\n",
    "y_train_pred = nn_modelGA.predict(X_train_scaled)\n",
    "end = time.time()\n",
    "\n",
    "y_train_accuracy = accuracy_score(y_train, y_train_pred)\n",
    "\n",
    "print('Training accuracy: ', y_train_accuracy)\n",
    "\n",
    "# Predict labels for test set and assess accuracy\n",
    "y_test_pred = nn_modelGA.predict(X_test_scaled)\n",
    "\n",
    "y_test_accuracy = accuracy_score(y_test, y_test_pred)\n",
    "\n",
    "print('Test accuracy: ', y_test_accuracy)\n",
    "print('Wall clock time: ', end-start)\n",
    "print('Loss: ', nn_modelGA.loss)\n",
    "\n",
    "plt.plot(nn_modelGA.fitness_curve)\n",
    "plt.xlabel(\"iterations\")\n",
    "plt.ylabel(\"fitness\")\n",
    "plt.title(\"Neural Network with GA\")"
   ]
  },
  {
   "cell_type": "code",
   "execution_count": 422,
   "id": "abfffd5a",
   "metadata": {},
   "outputs": [
    {
     "name": "stdout",
     "output_type": "stream",
     "text": [
      "[0.628125   0.534375   0.534375   0.534375   0.46394984]\n",
      "0.628125\n"
     ]
    }
   ],
   "source": [
    "# Source: https://chrisalbon.com/code/deep_learning/keras/k-fold_cross-validating_neural_networks/\n",
    "#cross-validation\n",
    "#cross-validation\n",
    "cross_val_scores = cross_val_score(nn_modelGA, redWine.iloc[:, 2:-2].values, redWine.iloc[:, -1].values, cv=StratifiedKFold(shuffle=True))#,scoring='roc_auc')\n",
    "print(cross_val_scores)\n",
    "print(cross_val_scores.max())"
   ]
  },
  {
   "cell_type": "code",
   "execution_count": 423,
   "id": "ebf04ffc",
   "metadata": {
    "scrolled": false
   },
   "outputs": [
    {
     "data": {
      "text/plain": [
       "<matplotlib.legend.Legend at 0x7ff31007b460>"
      ]
     },
     "execution_count": 423,
     "metadata": {},
     "output_type": "execute_result"
    },
    {
     "data": {
      "image/png": "[encoded data removed]",
      "text/plain": [
       "<Figure size 432x288 with 1 Axes>"
      ]
     },
     "metadata": {
      "needs_background": "light"
     },
     "output_type": "display_data"
    }
   ],
   "source": [
    "plt.plot(nn_modelGA.fitness_curve, label = 'GA')\n",
    "plt.plot(nn_modelRHC.fitness_curve, label = 'RHC')\n",
    "plt.plot(nn_modelSA.fitness_curve, label = 'SA')\n",
    "plt.plot(nn_modelGD.fitness_curve, label = 'GD')\n",
    "plt.xlabel(\"iterations\")\n",
    "plt.ylabel(\"fitness\")\n",
    "plt.title(\"Neural Network with Randomized Optimization Algorithms\")\n",
    "plt.legend()"
   ]
  },
  {
   "cell_type": "code",
   "execution_count": 424,
   "id": "ab4b9ad3",
   "metadata": {},
   "outputs": [],
   "source": [
    "#NN with RHC hyperparameter tuning\n",
    "# Initialize neural network object and fit object\n",
    "RHClosses = []\n",
    "RHCtraining_acc = []\n",
    "RHCtesting_acc = []\n",
    "RHCvalidation_acc = []\n",
    "RHCfitness_curves = []\n",
    "RHCtimes = []\n",
    "RHCrates = []\n",
    "\n",
    "rate = 0.0001\n",
    "\n",
    "for x in range (0,20):\n",
    "    nn_modelRHC = mlrose.NeuralNetwork(hidden_nodes = [20,10,5], activation = 'sigmoid',\n",
    "                                     algorithm = 'random_hill_climb', max_iters = 1000,\n",
    "                                     bias = True, is_classifier = True, learning_rate =rate,\n",
    "                                     early_stopping = False, clip_max = 5, max_attempts = 100, random_state = 3, curve=True)\n",
    "\n",
    "    start = time.time()\n",
    "    nn_modelRHC.fit(X_train_scaled, y_train)\n",
    "    # Predict labels for train set and assess accuracy\n",
    "    y_train_pred = nn_modelRHC.predict(X_train_scaled)\n",
    "    end = time.time()\n",
    "\n",
    "    RHCtraining_acc.append(accuracy_score(y_train, y_train_pred))\n",
    "    y_test_pred = nn_modelRHC.predict(X_test_scaled)\n",
    "    RHCtesting_acc.append(accuracy_score(y_test, y_test_pred))\n",
    "    RHCvalidation_acc.append(cross_val_score(nn_modelRHC, redWine.drop(['rating', 'quality'], axis=1), redWine['rating'], cv=5).max())\n",
    "    \n",
    "    RHClosses.append(nn_modelRHC.loss)\n",
    "    RHCfitness_curves.append(nn_modelRHC.fitness_curve)\n",
    "    RHCtimes.append(end-start)\n",
    "    RHCrates.append(rate)\n",
    "    \n",
    "    rate = rate + 0.001"
   ]
  },
  {
   "cell_type": "code",
   "execution_count": 425,
   "id": "d4f9ce50",
   "metadata": {},
   "outputs": [
    {
     "data": {
      "text/plain": [
       "<matplotlib.legend.Legend at 0x7ff303c00ac0>"
      ]
     },
     "execution_count": 425,
     "metadata": {},
     "output_type": "execute_result"
    },
    {
     "data": {
      "image/png": "[encoded data removed]",
      "text/plain": [
       "<Figure size 432x288 with 1 Axes>"
      ]
     },
     "metadata": {
      "needs_background": "light"
     },
     "output_type": "display_data"
    }
   ],
   "source": [
    "plt.plot(RHCrates, RHCtraining_acc, label = 'training')\n",
    "plt.plot(RHCrates,RHCtesting_acc, label = 'testing')\n",
    "plt.plot(RHCrates,RHCvalidation_acc, label = 'validation')\n",
    "plt.xlabel(\"Learning rates\")\n",
    "plt.ylabel(\"fitness\")\n",
    "plt.title(\"RHC Learning Curves for Training, Testing, and Validation\")\n",
    "plt.legend()"
   ]
  },
  {
   "cell_type": "code",
   "execution_count": 426,
   "id": "0f742389",
   "metadata": {},
   "outputs": [
    {
     "data": {
      "text/plain": [
       "Text(0.5, 1.0, 'Loss as Learning Rate Increases using RHC')"
      ]
     },
     "execution_count": 426,
     "metadata": {},
     "output_type": "execute_result"
    },
    {
     "data": {
      "image/png": "[encoded data removed]",
      "text/plain": [
       "<Figure size 432x288 with 1 Axes>"
      ]
     },
     "metadata": {
      "needs_background": "light"
     },
     "output_type": "display_data"
    }
   ],
   "source": [
    "plt.plot(RHCrates, RHClosses)\n",
    "plt.xlabel(\"learning rate\")\n",
    "plt.ylabel(\"loss\")\n",
    "plt.title(\"Loss as Learning Rate Increases using RHC\")"
   ]
  },
  {
   "cell_type": "code",
   "execution_count": 362,
   "id": "0db5046e",
   "metadata": {},
   "outputs": [],
   "source": [
    "#NN with GD hyperparameter tuning\n",
    "# Initialize neural network object and fit object\n",
    "from sklearn.model_selection import StratifiedKFold\n",
    "\n",
    "GDlosses = []\n",
    "GDtraining_acc = []\n",
    "GDtesting_acc = []\n",
    "GDvalidation_acc = []\n",
    "GDfitness_curves = []\n",
    "GDtimes = []\n",
    "GDrates = []\n",
    "\n",
    "rate = 0.0001\n",
    "\n",
    "for x in range (0,20):\n",
    "    nn_modelGD = mlrose.NeuralNetwork(hidden_nodes = [20,10,5], activation = 'relu',\n",
    "                                     algorithm = 'gradient_descent', max_iters = 1000,\n",
    "                                     bias = True, is_classifier = True, learning_rate =rate,\n",
    "                                     early_stopping = False, clip_max = 5, max_attempts = 100, random_state = 3, curve=True)\n",
    "\n",
    "    start = time.time()\n",
    "    nn_modelGD.fit(X_train_scaled, y_train)\n",
    "    # Predict labels for train set and assess accuracy\n",
    "    y_train_pred = nn_modelGD.predict(X_train_scaled)\n",
    "    end = time.time()\n",
    "\n",
    "    GDtraining_acc.append(accuracy_score(y_train, y_train_pred))\n",
    "    y_test_pred = nn_modelGD.predict(X_test_scaled)\n",
    "    GDtesting_acc.append(accuracy_score(y_test, y_test_pred))\n",
    "    GDvalidation_acc.append(cross_val_score(nn_modelGD, redWine.drop(['rating', 'quality'], axis=1), redWine['rating'], cv=5).max())\n",
    "    \n",
    "    GDlosses.append(nn_modelGD.loss)\n",
    "    GDfitness_curves.append(nn_modelGD.fitness_curve)\n",
    "    GDtimes.append(end-start)\n",
    "    GDrates.append(rate)\n",
    "    \n",
    "    rate = rate + 0.0001"
   ]
  },
  {
   "cell_type": "code",
   "execution_count": 363,
   "id": "34a4fc1c",
   "metadata": {
    "scrolled": true
   },
   "outputs": [
    {
     "data": {
      "text/plain": [
       "<matplotlib.legend.Legend at 0x7ff32a64bca0>"
      ]
     },
     "execution_count": 363,
     "metadata": {},
     "output_type": "execute_result"
    },
    {
     "data": {
      "image/png": "[encoded data removed]",
      "text/plain": [
       "<Figure size 432x288 with 1 Axes>"
      ]
     },
     "metadata": {
      "needs_background": "light"
     },
     "output_type": "display_data"
    }
   ],
   "source": [
    "plt.plot(GDrates, GDtraining_acc, label = 'training')\n",
    "plt.plot(GDrates,GDtesting_acc, label = 'testing')\n",
    "plt.plot(GDrates,GDvalidation_acc, label = 'validation')\n",
    "plt.xlabel(\"Learning rates\")\n",
    "plt.ylabel(\"fitness\")\n",
    "plt.title(\"GD Learning Curves for Training, Testing, and Validation\")\n",
    "plt.legend()"
   ]
  },
  {
   "cell_type": "code",
   "execution_count": 375,
   "id": "345ddd67",
   "metadata": {},
   "outputs": [
    {
     "data": {
      "text/plain": [
       "Text(0.5, 1.0, 'Loss as Learning Rate Increases using GD')"
      ]
     },
     "execution_count": 375,
     "metadata": {},
     "output_type": "execute_result"
    },
    {
     "data": {
      "image/png": "[encoded data removed]",
      "text/plain": [
       "<Figure size 432x288 with 1 Axes>"
      ]
     },
     "metadata": {
      "needs_background": "light"
     },
     "output_type": "display_data"
    }
   ],
   "source": [
    "plt.plot(GDrates, GDlosses)\n",
    "plt.xlabel(\"learning rate\")\n",
    "plt.ylabel(\"loss\")\n",
    "plt.title(\"Loss as Learning Rate Increases using GD\")"
   ]
  },
  {
   "cell_type": "code",
   "execution_count": 366,
   "id": "ad0a0bfa",
   "metadata": {},
   "outputs": [],
   "source": [
    "#NN with SA hyperparameter tuning\n",
    "# Initialize neural network object and fit object\n",
    "SAlosses = []\n",
    "SAtraining_acc = []\n",
    "SAtesting_acc = []\n",
    "SAvalidation_acc = []\n",
    "SAfitness_curves = []\n",
    "SAtimes = []\n",
    "SArates = []\n",
    "\n",
    "rate = 0.0001\n",
    "\n",
    "for x in range (0,20):\n",
    "    nn_modelSA = mlrose.NeuralNetwork(hidden_nodes = [20,10,5], activation = 'sigmoid',\n",
    "                                     algorithm = 'simulated_annealing', max_iters = 1000,\n",
    "                                     bias = True, is_classifier = True, learning_rate =rate,\n",
    "                                     early_stopping = False, clip_max = 5, max_attempts = 100, random_state = 3, curve=True)\n",
    "\n",
    "    start = time.time()\n",
    "    nn_modelSA.fit(X_train_scaled, y_train)\n",
    "    # Predict labels for train set and assess accuracy\n",
    "    y_train_pred = nn_modelSA.predict(X_train_scaled)\n",
    "    end = time.time()\n",
    "\n",
    "    SAtraining_acc.append(accuracy_score(y_train, y_train_pred))\n",
    "    y_test_pred = nn_modelSA.predict(X_test_scaled)\n",
    "    SAtesting_acc.append(accuracy_score(y_test, y_test_pred))\n",
    "    SAvalidation_acc.append(cross_val_score(nn_modelSA, redWine.drop(['rating', 'quality'], axis=1), redWine['rating'], cv=5).max())\n",
    "    \n",
    "    SAlosses.append(nn_modelSA.loss)\n",
    "    SAfitness_curves.append(nn_modelSA.fitness_curve)\n",
    "    SAtimes.append(end-start)\n",
    "    SArates.append(rate)\n",
    "    \n",
    "    rate = rate + 0.001"
   ]
  },
  {
   "cell_type": "code",
   "execution_count": 367,
   "id": "0fa0cc97",
   "metadata": {},
   "outputs": [
    {
     "data": {
      "text/plain": [
       "<matplotlib.legend.Legend at 0x7ff32a53a4f0>"
      ]
     },
     "execution_count": 367,
     "metadata": {},
     "output_type": "execute_result"
    },
    {
     "data": {
      "image/png": "[encoded data removed]",
      "text/plain": [
       "<Figure size 432x288 with 1 Axes>"
      ]
     },
     "metadata": {
      "needs_background": "light"
     },
     "output_type": "display_data"
    }
   ],
   "source": [
    "plt.plot(SArates, SAtraining_acc, label = 'training')\n",
    "plt.plot(SArates,SAtesting_acc, label = 'testing')\n",
    "plt.plot(SArates,SAvalidation_acc, label = 'validation')\n",
    "plt.xlabel(\"Learning rates\")\n",
    "plt.ylabel(\"fitness\")\n",
    "plt.title(\"SA Learning Curves for Training, Testing, and Validation\")\n",
    "plt.legend()"
   ]
  },
  {
   "cell_type": "code",
   "execution_count": 376,
   "id": "764bdcae",
   "metadata": {},
   "outputs": [
    {
     "data": {
      "text/plain": [
       "Text(0.5, 1.0, 'Loss as Learning Rate Increases using SA')"
      ]
     },
     "execution_count": 376,
     "metadata": {},
     "output_type": "execute_result"
    },
    {
     "data": {
      "image/png": "[encoded data removed]",
      "text/plain": [
       "<Figure size 432x288 with 1 Axes>"
      ]
     },
     "metadata": {
      "needs_background": "light"
     },
     "output_type": "display_data"
    }
   ],
   "source": [
    "plt.plot(SArates, SAlosses)\n",
    "plt.xlabel(\"learning rate\")\n",
    "plt.ylabel(\"loss\")\n",
    "plt.title(\"Loss as Learning Rate Increases using SA\")"
   ]
  },
  {
   "cell_type": "code",
   "execution_count": 427,
   "id": "957369d2",
   "metadata": {},
   "outputs": [],
   "source": [
    "#NN with GA hyperparameter tuning\n",
    "# Initialize neural network object and fit object\n",
    "GAlosses = []\n",
    "GAtraining_acc = []\n",
    "GAtesting_acc = []\n",
    "GAvalidation_acc = []\n",
    "GAfitness_curves = []\n",
    "GAtimes = []\n",
    "GArates = []\n",
    "\n",
    "rate = 0.0001\n",
    "\n",
    "for x in range (0,10):\n",
    "    nn_modelGA = mlrose.NeuralNetwork(hidden_nodes = [5], activation = 'sigmoid',\n",
    "                                     algorithm = 'genetic_alg', max_iters = 1000,\n",
    "                                     bias = True, is_classifier = True, learning_rate =rate,\n",
    "                                     early_stopping = False, clip_max = 5, max_attempts = 100, random_state = 3, curve=True)\n",
    "\n",
    "    start = time.time()\n",
    "    nn_modelGA.fit(X_train_scaled, y_train)\n",
    "    # Predict labels for train set and assess accuracy\n",
    "    y_train_pred = nn_modelGA.predict(X_train_scaled)\n",
    "    end = time.time()\n",
    "\n",
    "    GAtraining_acc.append(accuracy_score(y_train, y_train_pred))\n",
    "    y_test_pred = nn_modelGA.predict(X_test_scaled)\n",
    "    GAtesting_acc.append(accuracy_score(y_test, y_test_pred))\n",
    "    GAvalidation_acc.append(cross_val_score(nn_modelGA, redWine.drop(['rating', 'quality'], axis=1), redWine['rating'], cv=5).max())\n",
    "\n",
    "    \n",
    "    GAlosses.append(nn_modelGA.loss)\n",
    "    GAfitness_curves.append(nn_modelGA.fitness_curve)\n",
    "    GAtimes.append(end-start)\n",
    "    GArates.append(rate)\n",
    "    \n",
    "    rate = rate + 0.001"
   ]
  },
  {
   "cell_type": "code",
   "execution_count": 428,
   "id": "e634acb1",
   "metadata": {},
   "outputs": [
    {
     "data": {
      "text/plain": [
       "<matplotlib.legend.Legend at 0x7ff303b09e50>"
      ]
     },
     "execution_count": 428,
     "metadata": {},
     "output_type": "execute_result"
    },
    {
     "data": {
      "image/png": "[encoded data removed]",
      "text/plain": [
       "<Figure size 432x288 with 1 Axes>"
      ]
     },
     "metadata": {
      "needs_background": "light"
     },
     "output_type": "display_data"
    }
   ],
   "source": [
    "plt.plot(GArates, GAtraining_acc, label = 'training')\n",
    "plt.plot(GArates,GAtesting_acc, label = 'testing')\n",
    "plt.plot(GArates,GAvalidation_acc, label = 'validation')\n",
    "plt.xlabel(\"Learning rates\")\n",
    "plt.ylabel(\"fitness\")\n",
    "plt.title(\"GA Learning Curves for Training, Testing, and Validation\")\n",
    "plt.legend()"
   ]
  },
  {
   "cell_type": "code",
   "execution_count": 429,
   "id": "23b22c68",
   "metadata": {
    "scrolled": true
   },
   "outputs": [
    {
     "data": {
      "text/plain": [
       "Text(0.5, 1.0, 'Loss as Learning Rate Increases using GA')"
      ]
     },
     "execution_count": 429,
     "metadata": {},
     "output_type": "execute_result"
    },
    {
     "data": {
      "image/png": "[encoded data removed]",
      "text/plain": [
       "<Figure size 432x288 with 1 Axes>"
      ]
     },
     "metadata": {
      "needs_background": "light"
     },
     "output_type": "display_data"
    }
   ],
   "source": [
    "plt.plot(GArates, GAlosses)\n",
    "plt.xlabel(\"learning rate\")\n",
    "plt.ylabel(\"loss\")\n",
    "plt.title(\"Loss as Learning Rate Increases using GA\")"
   ]
  },
  {
   "cell_type": "code",
   "execution_count": 431,
   "id": "640e452f",
   "metadata": {},
   "outputs": [
    {
     "data": {
      "text/plain": [
       "[268.3462886810303,\n",
       " 261.49441266059875,\n",
       " 275.61134672164917,\n",
       " 269.9351370334625,\n",
       " 271.2534966468811,\n",
       " 271.69520568847656,\n",
       " 272.88667392730713,\n",
       " 272.0262804031372,\n",
       " 276.2813196182251,\n",
       " 276.67995047569275]"
      ]
     },
     "execution_count": 431,
     "metadata": {},
     "output_type": "execute_result"
    }
   ],
   "source": [
    "GAtimes"
   ]
  },
  {
   "cell_type": "code",
   "execution_count": null,
   "id": "6c833245",
   "metadata": {},
   "outputs": [],
   "source": [
    "############## End of Notebook ##############"
   ]
  }
 ],
 "metadata": {
  "kernelspec": {
   "display_name": "Python 3 (ipykernel)",
   "language": "python",
   "name": "python3"
  },
  "language_info": {
   "codemirror_mode": {
    "name": "ipython",
    "version": 3
   },
   "file_extension": ".py",
   "mimetype": "text/x-python",
   "name": "python",
   "nbconvert_exporter": "python",
   "pygments_lexer": "ipython3",
   "version": "3.8.5"
  }
 },
 "nbformat": 4,
 "nbformat_minor": 5
}
